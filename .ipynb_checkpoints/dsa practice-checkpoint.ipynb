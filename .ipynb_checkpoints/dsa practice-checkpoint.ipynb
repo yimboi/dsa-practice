{
 "cells": [
  {
   "cell_type": "markdown",
   "id": "021d5097-9355-469c-8b78-8b97b9436ba7",
   "metadata": {},
   "source": [
    "Given a number N. The task is to complete the function convertFive() which replace all zeros in the number with 5 and returns the number.\n",
    "\n",
    "Input:\n",
    "The first line of input contains an integer T, denoting the number of testcases. Then T testcases follow. Each testcase contains a single integer N denoting the number.\n",
    "\n",
    "Output:\n",
    "The function will return integer where all zero's are converted to 5.\n",
    "\n",
    "User Task:\n",
    "Since this is a functional problem you don't have to worry about input, you just have to complete the function convertFive().\n",
    "\n",
    "Constraints:\n",
    "1 <= T <= 103\n",
    "1 <= N <= 104"
   ]
  },
  {
   "cell_type": "code",
   "execution_count": null,
   "id": "3cf2ecde-2859-4f16-9fdc-3a9c4dafbead",
   "metadata": {},
   "outputs": [],
   "source": [
    "#function should return an integer\n",
    "#your task is to compplete this function\n",
    "class Solution:\n",
    "    def convertFive(self,n):\n",
    "        #Code here"
   ]
  },
  {
   "cell_type": "code",
   "execution_count": 68,
   "id": "3fde3f34-d51b-467d-a75f-0979ab7024f0",
   "metadata": {},
   "outputs": [
    {
     "name": "stdout",
     "output_type": "stream",
     "text": [
      "[1, 255, 355]\n"
     ]
    }
   ],
   "source": [
    "# Test script\n",
    "\n",
    "T = []\n",
    "\n",
    "def convertFive(*numbers):\n",
    "    for i in range(len(numbers)):\n",
    "        a = (str(numbers[i])).replace(\"0\",\"5\")\n",
    "        b = int(a)\n",
    "        T.append(b)\n",
    "        \n",
    "\n",
    "convertFive(1, 102, 20, 205, 300, 400)\n",
    "print(T)"
   ]
  },
  {
   "cell_type": "code",
   "execution_count": 67,
   "id": "94d049d4-07d6-4d6c-8d63-6934fe21ed12",
   "metadata": {},
   "outputs": [
    {
     "name": "stdout",
     "output_type": "stream",
     "text": [
      "[1, 155, 152, 25, 255, 355, 455]\n"
     ]
    }
   ],
   "source": [
    "# Test script 2\n",
    "\n",
    "N = [1, 100, 102, 20, 205, 300, 400]\n",
    "T = []\n",
    "\n",
    "def convertFive(*numbers):\n",
    "    for i in N:\n",
    "        a = (str(i)).replace(\"0\",\"5\")\n",
    "        b = int(a)\n",
    "        T.append(b)\n",
    "\n",
    "convertFive(N)\n",
    "print(T)"
   ]
  },
  {
   "cell_type": "code",
   "execution_count": null,
   "id": "33855057-b45c-4526-9662-3c51c74dd6ba",
   "metadata": {},
   "outputs": [
    {
     "name": "stdout",
     "output_type": "stream",
     "text": [
      "1\n",
      "100\n",
      "102\n",
      "20\n",
      "205\n",
      "300\n",
      "400\n"
     ]
    }
   ],
   "source": [
    "N = [1, 100, 102, 20, 205, 300, 400]\n",
    "\n",
    "for i in range(len(N)): #[0,1,2,3,4,5]\n",
    "    print(N[i])\n",
    "    \n",
    "    "
   ]
  },
  {
   "cell_type": "code",
   "execution_count": 21,
   "id": "010e9617-feaa-4d91-82fe-cd3fb4345ade",
   "metadata": {},
   "outputs": [
    {
     "ename": "TypeError",
     "evalue": "'int' object is not callable",
     "output_type": "error",
     "traceback": [
      "\u001b[1;31m---------------------------------------------------------------------------\u001b[0m",
      "\u001b[1;31mTypeError\u001b[0m                                 Traceback (most recent call last)",
      "Input \u001b[1;32mIn [21]\u001b[0m, in \u001b[0;36m<cell line: 12>\u001b[1;34m()\u001b[0m\n\u001b[0;32m      9\u001b[0m         b \u001b[38;5;241m=\u001b[39m \u001b[38;5;28mtuple\u001b[39m(a)\n\u001b[0;32m     10\u001b[0m         \u001b[38;5;28mprint\u001b[39m(b)\n\u001b[1;32m---> 12\u001b[0m \u001b[43mconvertFive\u001b[49m\u001b[43m(\u001b[49m\u001b[43mN\u001b[49m\u001b[43m)\u001b[49m\n",
      "Input \u001b[1;32mIn [21]\u001b[0m, in \u001b[0;36mconvertFive\u001b[1;34m(*numbers)\u001b[0m\n\u001b[0;32m      8\u001b[0m a \u001b[38;5;241m=\u001b[39m (\u001b[38;5;28mstr\u001b[39m(numbers[i]))\u001b[38;5;241m.\u001b[39mreplace(\u001b[38;5;124m\"\u001b[39m\u001b[38;5;124m0\u001b[39m\u001b[38;5;124m\"\u001b[39m,\u001b[38;5;124m\"\u001b[39m\u001b[38;5;124m5\u001b[39m\u001b[38;5;124m\"\u001b[39m)\n\u001b[0;32m      9\u001b[0m b \u001b[38;5;241m=\u001b[39m \u001b[38;5;28mtuple\u001b[39m(a)\n\u001b[1;32m---> 10\u001b[0m \u001b[38;5;28;43mprint\u001b[39;49m\u001b[43m(\u001b[49m\u001b[43mb\u001b[49m\u001b[43m)\u001b[49m\n",
      "\u001b[1;31mTypeError\u001b[0m: 'int' object is not callable"
     ]
    }
   ],
   "source": [
    "# Test script 2\n",
    "\n",
    "N = [1, 100, 102, 20, 205, 300, 400]\n",
    "T = []\n",
    "\n",
    "def convertFive(*numbers):\n",
    "    for i in range(len(N)):\n",
    "        a = (str(numbers[i])).replace(\"0\",\"5\")\n",
    "        b = tuple(a)\n",
    "        print(b)\n",
    "      \n",
    "convertFive(N)"
   ]
  },
  {
   "cell_type": "markdown",
   "id": "10d5be25-1528-4dca-a3c4-ebe26bc9191a",
   "metadata": {},
   "source": [
    "Given an array Arr of size N, print second largest element from an array.\n",
    "\n",
    "Example 1:\n",
    "    \n",
    "Input: \n",
    "N = 6\n",
    "Arr[] = {12, 35, 1, 10, 34, 1}\n",
    "Output: 34\n",
    "Explanation: The largest element of the \n",
    "array is 35 and the second largest element\n",
    "is 34.\n",
    "\n",
    "Your Task:\n",
    "You don't need to read input or print anything. Your task is to complete the function print2largest() which takes the array of integers arr and n as parameters and returns an integer denoting the answer. If 2nd largest element doesn't exist then return -1.\n",
    "\n",
    "Expected Time Complexity: O(N)\n",
    "Expected Auxiliary Space: O(1)\n",
    "\n",
    "Constraints:\n",
    "1 ≤ N ≤ 105\n",
    "1 ≤ Arri ≤ 105"
   ]
  },
  {
   "cell_type": "code",
   "execution_count": 102,
   "id": "543bc919-d20f-4e82-b33f-056759280648",
   "metadata": {},
   "outputs": [
    {
     "name": "stdout",
     "output_type": "stream",
     "text": [
      "300\n"
     ]
    }
   ],
   "source": [
    "def print2largest(Arr):\n",
    "    Arr.sort()\n",
    "    print(Arr[-2])\n",
    "    \n",
    "\n",
    "Arr = [-1, 5, 2, 33, 100, 6, 120, 500, 300, 100]\n",
    "\n",
    "print2largest(Arr)\n"
   ]
  },
  {
   "cell_type": "markdown",
   "id": "22e0d3bc-28de-480e-af7f-3fec4fea6f82",
   "metadata": {},
   "source": [
    "Given an array Arr of N positive integers. Your task is to find the elements whose value is equal to that of its index value ( Consider 1-based indexing ).\n",
    "\n",
    "Input: \n",
    "N = 5\n",
    "Arr[] = {15, 2, 45, 12, 7}\n",
    "Output: 2\n",
    "Explanation: Only Arr[2] = 2 exists here.\n",
    "\n",
    "Your Task:  \n",
    "You don't need to read input or print anything. Your task is to complete the function valueEqualToIndex() which takes the array of integers arr[] and n as parameters and returns an array of indices where the given conditions are satified. When there is not such element exists then return an empty array of length 0.\n",
    "\n",
    "Expected Time Complexity: O(N)\n",
    "Expected Auxiliary Space: O(1)\n",
    "Note: There can be more than one element in the array which have same value as their index. You need to include every such element's index. Follows 1-based indexing of the array.\n",
    "\n",
    "Constraints:\n",
    "1 ≤ N ≤ 105\n",
    "1 ≤ Arr[i] ≤ 106"
   ]
  },
  {
   "cell_type": "code",
   "execution_count": 114,
   "id": "6e1f4a37-cedc-4a88-a357-02917051d519",
   "metadata": {},
   "outputs": [
    {
     "name": "stdout",
     "output_type": "stream",
     "text": [
      "2\n"
     ]
    }
   ],
   "source": [
    "def valueEqualToIndex(A):\n",
    "    for i in range(len(A)):\n",
    "        B = str(A[i])\n",
    "        if S in B:\n",
    "            B = int(B.count(S))\n",
    "            C.append(B)\n",
    "                    \n",
    "print(sum(C))\n",
    "\n",
    "A = [15, 2, 45, 12, 7]\n",
    "S = str(len(A))\n",
    "C = []\n",
    "\n",
    "valueEqualToIndex(A)\n",
    "    "
   ]
  },
  {
   "cell_type": "markdown",
   "id": "10bba99a-f564-469d-a681-f02667590b07",
   "metadata": {},
   "source": [
    "Given a non-empty sequence of characters str, return true if sequence is Binary, else return false\n",
    "\n",
    "Your Task:\n",
    "Complete the function isBinary() which takes an string str as input parameter and returns 1 if str is binary and returns 0 otherwise.\n",
    "\n",
    " \n",
    "\n",
    "Expected Time Complexity: O(|s|)\n",
    "Expected Auxiliary Space: O(1)\n",
    "\n",
    " \n",
    "\n",
    "Constraints:\n",
    "1 <=T<= 50\n",
    "1 <=Length of str<= 10000"
   ]
  },
  {
   "cell_type": "code",
   "execution_count": 1,
   "id": "acd76b08-f5b9-48fd-8069-d2e908358ea8",
   "metadata": {},
   "outputs": [
    {
     "name": "stdout",
     "output_type": "stream",
     "text": [
      "1\n"
     ]
    }
   ],
   "source": [
    "# String contains substring\n",
    "\n",
    "# Using the in- method\n",
    "\n",
    "def isBinary(x):\n",
    "\n",
    "    if \"1\" or \"0\" in str(x):\n",
    "        print(1)\n",
    "    else:\n",
    "        print(0)\n",
    "    \n",
    "isBinary(50)"
   ]
  },
  {
   "cell_type": "code",
   "execution_count": null,
   "id": "4391eea3-e030-480c-bb9c-2dd48960b1cb",
   "metadata": {},
   "outputs": [],
   "source": [
    "# Using the index method\n",
    "\n",
    "x = 10\n",
    "y = 100\n",
    "\n",
    "try:\n",
    "    x.index(str(y))\n",
    "    \n",
    "except:\n",
    "    print(0)\n",
    "\n",
    "else:\n",
    "    print(\"match\")\n"
   ]
  },
  {
   "cell_type": "code",
   "execution_count": 92,
   "id": "7b2679ff-29b6-4764-8d25-f3696f6dcf99",
   "metadata": {},
   "outputs": [
    {
     "name": "stdout",
     "output_type": "stream",
     "text": [
      "not found\n"
     ]
    }
   ],
   "source": [
    "# Using the find method\n",
    "\n",
    "x1 = str(1)\n",
    "x2 = str(0)\n",
    "y = str(15)\n",
    "\n",
    "if x1.find(y) != -1 and x2.find(y) != -1:\n",
    "    print(\"found\")\n",
    "else:\n",
    "    print(\"not found\")"
   ]
  },
  {
   "cell_type": "markdown",
   "id": "1f6704a3-bc15-4402-ae58-63fef1a8babd",
   "metadata": {},
   "source": [
    "You are given an array A of size N. You need to print elements of A in alternate order (starting from index 0).\n",
    "\n",
    "Your Task:\n",
    "Since this is a function problem, you just need to complete the provided function void print(int ar[],int n)\n",
    "\n",
    "Constraints:\n",
    "1 <= N <= 105\n",
    "1 <= Ai <= 105\n",
    "\n",
    "Expected Time Complexity: O(n)\n",
    "Expected Auxiliary Space: O(1)"
   ]
  },
  {
   "cell_type": "code",
   "execution_count": 77,
   "id": "7a7e438b-a58b-442c-9ede-782ce7e0fa36",
   "metadata": {},
   "outputs": [
    {
     "name": "stdout",
     "output_type": "stream",
     "text": [
      "[75  7 59 93 58 18 60 96 25 74 65 30]\n",
      "59\n",
      "58\n",
      "60\n",
      "25\n",
      "65\n",
      "[75, 59, 58, 60, 25, 65]\n"
     ]
    }
   ],
   "source": [
    "import numpy as np\n",
    "from numpy import random\n",
    "\n",
    "N = 12 #size of an array\n",
    "\n",
    "x = random.randint(1, 100, size = N)\n",
    "\n",
    "A = np.array(x)\n",
    "print(A)\n",
    "\n",
    "Ai = []\n",
    "\n",
    "i = 0\n",
    "Ai.append(x[0])\n",
    "\n",
    "while i < N:\n",
    "    i +=2\n",
    "    if i < N:\n",
    "        print(x[i])\n",
    "        Ai.append(x[i])\n",
    "    \n",
    "print(Ai)"
   ]
  },
  {
   "cell_type": "code",
   "execution_count": 90,
   "id": "175458cf-7992-49d6-bc3d-ab4276c91e2a",
   "metadata": {},
   "outputs": [
    {
     "name": "stdout",
     "output_type": "stream",
     "text": [
      "[51 17 60 48 51 58 43 98  2 95 68 33]\n",
      "[51, 60, 51, 43, 2, 68]\n"
     ]
    }
   ],
   "source": [
    "import numpy as np\n",
    "from numpy import random\n",
    "\n",
    "def myindex(N):\n",
    "    x = random.randint(1, 100, size = N)\n",
    "    \n",
    "    print(x)\n",
    "    \n",
    "    Ai = []\n",
    "    i = 0\n",
    "    Ai.append(x[i])\n",
    "    \n",
    "    while i < N:\n",
    "        i +=2\n",
    "        if i < N:\n",
    "            Ai.append(x[i])\n",
    "    print(Ai)\n",
    "    \n",
    "myindex(12)\n",
    "\n"
   ]
  },
  {
   "cell_type": "markdown",
   "id": "dca7c35c-9472-4b88-9def-cf1cc3844873",
   "metadata": {},
   "source": [
    "Write a program to find the sum of the given series 1+2+3+ . . . . . .(N terms) \n",
    "\n",
    "Example 1:\n",
    "\n",
    "Input:\n",
    "N = 1\n",
    "Output: 1\n",
    "Explanation: For n = 1, sum will be 1.\n",
    "Example 2:\n",
    "\n",
    "Input:\n",
    "N = 5\n",
    "Output: 15\n",
    "Explanation: For n = 5, sum will be 1\n",
    "+ 2 + 3 + 4 + 5 = 15.\n",
    "Your Task:\n",
    "Complete the function seriesSum() which takes single integer n, as input parameters and returns an integer denoting the answer. You don't need to print the answer or take inputs.\n",
    "\n",
    "Expected Time Complexity: O(1)\n",
    "Expected Auxiliary Space: O(1)\n",
    "\n",
    "Constraints:\n",
    "1 <= N <= 105"
   ]
  },
  {
   "cell_type": "code",
   "execution_count": 32,
   "id": "479399d9-d9e0-4274-a305-8ba84d6c90a6",
   "metadata": {},
   "outputs": [
    {
     "data": {
      "text/plain": [
       "6"
      ]
     },
     "execution_count": 32,
     "metadata": {},
     "output_type": "execute_result"
    }
   ],
   "source": [
    "i = 3\n",
    "j = 0\n",
    "\n",
    "A = []\n",
    "\n",
    "while j <= i:\n",
    "    j += 1\n",
    "    A.append(j)\n",
    "    if j == i:\n",
    "        break\n",
    "sum(A)"
   ]
  },
  {
   "cell_type": "code",
   "execution_count": 35,
   "id": "f6d8579b-1968-438e-97c8-6649c8a560d1",
   "metadata": {},
   "outputs": [
    {
     "name": "stdout",
     "output_type": "stream",
     "text": [
      "6\n"
     ]
    }
   ],
   "source": [
    "def seriesSum(i):\n",
    "    \n",
    "    j = 0\n",
    "    A = []\n",
    "    \n",
    "    while j <= i:\n",
    "        j +=1\n",
    "        A.append(j)\n",
    "        if j == i:\n",
    "            break\n",
    "    print(sum(A))\n",
    "\n",
    "seriesSum(3)\n"
   ]
  },
  {
   "cell_type": "code",
   "execution_count": 1,
   "id": "165bbc70-ac7b-4e3e-a2d2-ba4fdd41017e",
   "metadata": {},
   "outputs": [],
   "source": [
    "#set"
   ]
  },
  {
   "cell_type": "code",
   "execution_count": null,
   "id": "2fc56938-a7ad-41b3-8574-b84c7398f057",
   "metadata": {},
   "outputs": [],
   "source": []
  }
 ],
 "metadata": {
  "kernelspec": {
   "display_name": "Python 3 (ipykernel)",
   "language": "python",
   "name": "python3"
  },
  "language_info": {
   "codemirror_mode": {
    "name": "ipython",
    "version": 3
   },
   "file_extension": ".py",
   "mimetype": "text/x-python",
   "name": "python",
   "nbconvert_exporter": "python",
   "pygments_lexer": "ipython3",
   "version": "3.9.7"
  }
 },
 "nbformat": 4,
 "nbformat_minor": 5
}
