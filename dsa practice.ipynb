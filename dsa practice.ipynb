{
 "cells": [
  {
   "cell_type": "raw",
   "id": "77401a97-2ab6-475d-b85a-f4ded63d1f8c",
   "metadata": {},
   "source": [
    "Given a number N. The task is to complete the function convertFive() which replace all zeros in the number with 5 and returns the number.\n",
    "\n",
    "Input:\n",
    "The first line of input contains an integer T, denoting the number of testcases. Then T testcases follow. Each testcase contains a single integer N denoting the number.\n",
    "\n",
    "Output:\n",
    "The function will return integer where all zero's are converted to 5.\n",
    "\n",
    "User Task:\n",
    "Since this is a functional problem you don't have to worry about input, you just have to complete the function convertFive().\n",
    "\n",
    "Constraints:\n",
    "1 <= T <= 103\n",
    "1 <= N <= 104"
   ]
  },
  {
   "cell_type": "code",
   "execution_count": null,
   "id": "3cf2ecde-2859-4f16-9fdc-3a9c4dafbead",
   "metadata": {},
   "outputs": [],
   "source": [
    "#function should return an integer\n",
    "#your task is to compplete this function\n",
    "class Solution:\n",
    "    def convertFive(self,n):\n",
    "        #Code here"
   ]
  },
  {
   "cell_type": "code",
   "execution_count": 68,
   "id": "3fde3f34-d51b-467d-a75f-0979ab7024f0",
   "metadata": {},
   "outputs": [
    {
     "name": "stdout",
     "output_type": "stream",
     "text": [
      "[1, 255, 355]\n"
     ]
    }
   ],
   "source": [
    "# Test script\n",
    "\n",
    "T = []\n",
    "\n",
    "def convertFive(*numbers):\n",
    "    for i in range(len(numbers)):\n",
    "        a = (str(numbers[i])).replace(\"0\",\"5\")\n",
    "        b = int(a)\n",
    "        T.append(b)\n",
    "        \n",
    "\n",
    "convertFive(1, 102, 20, 205, 300, 400)\n",
    "print(T)"
   ]
  },
  {
   "cell_type": "code",
   "execution_count": null,
   "id": "94d049d4-07d6-4d6c-8d63-6934fe21ed12",
   "metadata": {},
   "outputs": [
    {
     "name": "stdout",
     "output_type": "stream",
     "text": [
      "[1, 155, 152, 25, 255, 355, 455]\n"
     ]
    }
   ],
   "source": [
    "# Test script 2\n",
    "\n",
    "N = [1, 100, 102, 20, 205, 300, 400]\n",
    "T = []\n",
    "\n",
    "def convertFive(*numbers):\n",
    "    for i in N:\n",
    "        a = (str(i)).replace(\"0\",\"5\")\n",
    "        b = int(a)\n",
    "        T.append(b)\n",
    "\n",
    "convertFive(N)\n",
    "print(T)"
   ]
  },
  {
   "cell_type": "code",
   "execution_count": 3,
   "id": "33855057-b45c-4526-9662-3c51c74dd6ba",
   "metadata": {},
   "outputs": [
    {
     "name": "stdout",
     "output_type": "stream",
     "text": [
      "1\n",
      "100\n",
      "102\n",
      "20\n",
      "205\n",
      "300\n",
      "400\n"
     ]
    }
   ],
   "source": [
    "N = [1, 100, 102, 20, 205, 300, 400]\n",
    "\n",
    "for i in range(len(N)): #[0,1,2,3,4,5]\n",
    "    print(N[i])\n",
    "    \n",
    "    "
   ]
  },
  {
   "cell_type": "raw",
   "id": "190dc099-1550-4df3-b119-71c43dc4de80",
   "metadata": {},
   "source": [
    "Given an array Arr of size N, print second largest element from an array.\n",
    "\n",
    "Example 1:\n",
    "    \n",
    "Input: \n",
    "N = 6\n",
    "Arr[] = {12, 35, 1, 10, 34, 1}\n",
    "Output: 34\n",
    "Explanation: The largest element of the \n",
    "array is 35 and the second largest element\n",
    "is 34.\n",
    "\n",
    "Your Task:\n",
    "You don't need to read input or print anything. Your task is to complete the function print2largest() which takes the array of integers arr and n as parameters and returns an integer denoting the answer. If 2nd largest element doesn't exist then return -1.\n",
    "\n",
    "Expected Time Complexity: O(N)\n",
    "Expected Auxiliary Space: O(1)\n",
    "\n",
    "Constraints:\n",
    "1 ≤ N ≤ 105\n",
    "1 ≤ Arri ≤ 105"
   ]
  },
  {
   "cell_type": "code",
   "execution_count": 102,
   "id": "543bc919-d20f-4e82-b33f-056759280648",
   "metadata": {},
   "outputs": [
    {
     "name": "stdout",
     "output_type": "stream",
     "text": [
      "300\n"
     ]
    }
   ],
   "source": [
    "def print2largest(Arr):\n",
    "    Arr.sort()\n",
    "    print(Arr[-2])\n",
    "    \n",
    "\n",
    "Arr = [-1, 5, 2, 33, 100, 6, 120, 500, 300, 100]\n",
    "\n",
    "print2largest(Arr)\n"
   ]
  },
  {
   "cell_type": "raw",
   "id": "0a2a980d-f56f-44b8-ac8f-664d23196480",
   "metadata": {},
   "source": [
    "Given an array Arr of N positive integers. Your task is to find the elements whose value is equal to that of its index value ( Consider 1-based indexing ).\n",
    "\n",
    "Input: \n",
    "N = 5\n",
    "Arr[] = {15, 2, 45, 12, 7}\n",
    "Output: 2\n",
    "Explanation: Only Arr[2] = 2 exists here.\n",
    "\n",
    "Your Task:  \n",
    "You don't need to read input or print anything. Your task is to complete the function valueEqualToIndex() which takes the array of integers arr[] and n as parameters and returns an array of indices where the given conditions are satified. When there is not such element exists then return an empty array of length 0.\n",
    "\n",
    "Expected Time Complexity: O(N)\n",
    "Expected Auxiliary Space: O(1)\n",
    "Note: There can be more than one element in the array which have same value as their index. You need to include every such element's index. Follows 1-based indexing of the array.\n",
    "\n",
    "Constraints:\n",
    "1 ≤ N ≤ 105\n",
    "1 ≤ Arr[i] ≤ 106"
   ]
  },
  {
   "cell_type": "code",
   "execution_count": 114,
   "id": "6e1f4a37-cedc-4a88-a357-02917051d519",
   "metadata": {},
   "outputs": [
    {
     "name": "stdout",
     "output_type": "stream",
     "text": [
      "2\n"
     ]
    }
   ],
   "source": [
    "def valueEqualToIndex(A):\n",
    "    for i in range(len(A)):\n",
    "        B = str(A[i])\n",
    "        if S in B:\n",
    "            B = int(B.count(S))\n",
    "            C.append(B)\n",
    "                    \n",
    "print(sum(C))\n",
    "\n",
    "A = [15, 2, 45, 12, 7]\n",
    "S = str(len(A))\n",
    "C = []\n",
    "\n",
    "valueEqualToIndex(A)\n",
    "    "
   ]
  },
  {
   "cell_type": "raw",
   "id": "790fcc05-173a-4e29-a5f1-d6705058dfc9",
   "metadata": {},
   "source": [
    "Given a non-empty sequence of characters str, return true if sequence is Binary, else return false\n",
    "\n",
    "Your Task:\n",
    "Complete the function isBinary() which takes an string str as input parameter and returns 1 if str is binary and returns 0 otherwise.\n",
    "\n",
    " \n",
    "\n",
    "Expected Time Complexity: O(|s|)\n",
    "Expected Auxiliary Space: O(1)\n",
    "\n",
    " \n",
    "\n",
    "Constraints:\n",
    "1 <=T<= 50\n",
    "1 <=Length of str<= 10000"
   ]
  },
  {
   "cell_type": "code",
   "execution_count": 1,
   "id": "acd76b08-f5b9-48fd-8069-d2e908358ea8",
   "metadata": {},
   "outputs": [
    {
     "name": "stdout",
     "output_type": "stream",
     "text": [
      "1\n"
     ]
    }
   ],
   "source": [
    "# String contains substring\n",
    "\n",
    "# Using the in- method\n",
    "\n",
    "def isBinary(x):\n",
    "\n",
    "    if \"1\" or \"0\" in str(x):\n",
    "        print(1)\n",
    "    else:\n",
    "        print(0)\n",
    "    \n",
    "isBinary(50)"
   ]
  },
  {
   "cell_type": "code",
   "execution_count": null,
   "id": "4391eea3-e030-480c-bb9c-2dd48960b1cb",
   "metadata": {},
   "outputs": [],
   "source": [
    "# Using the index method\n",
    "\n",
    "x = 10\n",
    "y = 100\n",
    "\n",
    "try:\n",
    "    x.index(str(y))\n",
    "    \n",
    "except:\n",
    "    print(0)\n",
    "\n",
    "else:\n",
    "    print(\"match\")\n"
   ]
  },
  {
   "cell_type": "code",
   "execution_count": 92,
   "id": "7b2679ff-29b6-4764-8d25-f3696f6dcf99",
   "metadata": {},
   "outputs": [
    {
     "name": "stdout",
     "output_type": "stream",
     "text": [
      "not found\n"
     ]
    }
   ],
   "source": [
    "# Using the find method\n",
    "\n",
    "x1 = str(1)\n",
    "x2 = str(0)\n",
    "y = str(15)\n",
    "\n",
    "if x1.find(y) != -1 and x2.find(y) != -1:\n",
    "    print(\"found\")\n",
    "else:\n",
    "    print(\"not found\")"
   ]
  },
  {
   "cell_type": "raw",
   "id": "dd4af0f8-4138-4afe-84bf-f63b179d41ea",
   "metadata": {},
   "source": [
    "You are given an array A of size N. You need to print elements of A in alternate order (starting from index 0).\n",
    "\n",
    "Your Task:\n",
    "Since this is a function problem, you just need to complete the provided function void print(int ar[],int n)\n",
    "\n",
    "Constraints:\n",
    "1 <= N <= 105\n",
    "1 <= Ai <= 105\n",
    "\n",
    "Expected Time Complexity: O(n)\n",
    "Expected Auxiliary Space: O(1)"
   ]
  },
  {
   "cell_type": "code",
   "execution_count": 77,
   "id": "7a7e438b-a58b-442c-9ede-782ce7e0fa36",
   "metadata": {},
   "outputs": [
    {
     "name": "stdout",
     "output_type": "stream",
     "text": [
      "[75  7 59 93 58 18 60 96 25 74 65 30]\n",
      "59\n",
      "58\n",
      "60\n",
      "25\n",
      "65\n",
      "[75, 59, 58, 60, 25, 65]\n"
     ]
    }
   ],
   "source": [
    "import numpy as np\n",
    "from numpy import random\n",
    "\n",
    "N = 12 #size of an array\n",
    "\n",
    "x = random.randint(1, 100, size = N)\n",
    "\n",
    "A = np.array(x)\n",
    "print(A)\n",
    "\n",
    "Ai = []\n",
    "\n",
    "i = 0\n",
    "Ai.append(x[0])\n",
    "\n",
    "while i < N:\n",
    "    i +=2\n",
    "    if i < N:\n",
    "        print(x[i])\n",
    "        Ai.append(x[i])\n",
    "    \n",
    "print(Ai)"
   ]
  },
  {
   "cell_type": "code",
   "execution_count": 90,
   "id": "175458cf-7992-49d6-bc3d-ab4276c91e2a",
   "metadata": {},
   "outputs": [
    {
     "name": "stdout",
     "output_type": "stream",
     "text": [
      "[51 17 60 48 51 58 43 98  2 95 68 33]\n",
      "[51, 60, 51, 43, 2, 68]\n"
     ]
    }
   ],
   "source": [
    "import numpy as np\n",
    "from numpy import random\n",
    "\n",
    "def myindex(N):\n",
    "    x = random.randint(1, 100, size = N)\n",
    "    \n",
    "    print(x)\n",
    "    \n",
    "    Ai = []\n",
    "    i = 0\n",
    "    Ai.append(x[i])\n",
    "    \n",
    "    while i < N:\n",
    "        i +=2\n",
    "        if i < N:\n",
    "            Ai.append(x[i])\n",
    "    print(Ai)\n",
    "    \n",
    "myindex(12)\n",
    "\n"
   ]
  },
  {
   "cell_type": "raw",
   "id": "9f833d15-c4f0-4e62-a3ea-17b22676bc99",
   "metadata": {},
   "source": [
    "Write a program to find the sum of the given series 1+2+3+ . . . . . .(N terms) \n",
    "\n",
    "Example 1:\n",
    "\n",
    "Input:\n",
    "N = 1\n",
    "Output: 1\n",
    "Explanation: For n = 1, sum will be 1.\n",
    "Example 2:\n",
    "\n",
    "Input:\n",
    "N = 5\n",
    "Output: 15\n",
    "Explanation: For n = 5, sum will be 1\n",
    "+ 2 + 3 + 4 + 5 = 15.\n",
    "Your Task:\n",
    "Complete the function seriesSum() which takes single integer n, as input parameters and returns an integer denoting the answer. You don't need to print the answer or take inputs.\n",
    "\n",
    "Expected Time Complexity: O(1)\n",
    "Expected Auxiliary Space: O(1)\n",
    "\n",
    "Constraints:\n",
    "1 <= N <= 105"
   ]
  },
  {
   "cell_type": "code",
   "execution_count": 32,
   "id": "479399d9-d9e0-4274-a305-8ba84d6c90a6",
   "metadata": {},
   "outputs": [
    {
     "data": {
      "text/plain": [
       "6"
      ]
     },
     "execution_count": 32,
     "metadata": {},
     "output_type": "execute_result"
    }
   ],
   "source": [
    "i = 3\n",
    "j = 0\n",
    "\n",
    "A = []\n",
    "\n",
    "while j <= i:\n",
    "    j += 1\n",
    "    A.append(j)\n",
    "    if j == i:\n",
    "        break\n",
    "sum(A)"
   ]
  },
  {
   "cell_type": "code",
   "execution_count": 35,
   "id": "f6d8579b-1968-438e-97c8-6649c8a560d1",
   "metadata": {},
   "outputs": [
    {
     "name": "stdout",
     "output_type": "stream",
     "text": [
      "6\n"
     ]
    }
   ],
   "source": [
    "def seriesSum(i):\n",
    "    \n",
    "    j = 0\n",
    "    A = []\n",
    "    \n",
    "    while j <= i:\n",
    "        j +=1\n",
    "        A.append(j)\n",
    "        if j == i:\n",
    "            break\n",
    "    print(sum(A))\n",
    "\n",
    "seriesSum(3)"
   ]
  },
  {
   "cell_type": "raw",
   "id": "7b5064fa-3eff-4231-b6a1-d0ee8f984ec2",
   "metadata": {},
   "source": [
    "You are given a number N. You need to print the pattern for the given value of N.\n",
    "\n",
    "For N = 2 the pattern will be \n",
    "2 2 1 1\n",
    "2 1\n",
    "\n",
    "For N = 3 the pattern will be \n",
    "3 3 3 2 2 2 1 1 1\n",
    "3 3 2 2 1 1\n",
    "3 2 1\n",
    "\n",
    "Note: Instead of printing a new line print a \"$\" without quotes. After printing the total output, end of the line is expected."
   ]
  },
  {
   "cell_type": "code",
   "execution_count": 47,
   "id": "af12363e-7402-4d22-bc09-9513ac110b30",
   "metadata": {},
   "outputs": [
    {
     "name": "stdout",
     "output_type": "stream",
     "text": [
      "333 222 111 $ 33 22 11 $ 3 2 1 $ "
     ]
    }
   ],
   "source": [
    "def print_pattern(N):\n",
    "\n",
    "    for i in range (N, 0, -1):\n",
    "        for j in range (N, 0, -1):\n",
    "            print(str(j)*i, end = \" \")\n",
    "        print(\"$\", end = \" \")\n",
    "\n",
    "print_pattern(3)"
   ]
  },
  {
   "cell_type": "raw",
   "id": "c72f572e-a4de-4140-8d7e-9df0a81aab32",
   "metadata": {},
   "source": [
    "Print numbers from 1 to N without the help of loops.\n",
    "\n",
    "Example 1:\n",
    "\n",
    "Input:\n",
    "N = 10\n",
    "Output: 1 2 3 4 5 6 7 8 9 10\n",
    "\n",
    "Example 2:\n",
    "\n",
    "Input:\n",
    "N = 5\n",
    "Output: 1 2 3 4 5\n",
    " \n",
    "\n",
    "Your Task:\n",
    "This is a function problem. You only need to complete the function printNos() that takes N as parameter and prints number from 1 to N recursively. Don't print newline, it will be added by the driver code."
   ]
  },
  {
   "cell_type": "code",
   "execution_count": 84,
   "id": "4c3944e8-8b99-4daf-a7b2-a17bb00ee81a",
   "metadata": {},
   "outputs": [
    {
     "data": {
      "text/plain": [
       "[1, 2, 3, 4, 5]"
      ]
     },
     "execution_count": 84,
     "metadata": {},
     "output_type": "execute_result"
    }
   ],
   "source": [
    "def printNos(n):\n",
    "    if n >= 1:\n",
    "        result = list(range(1, n+1, +1))\n",
    "        return result\n",
    "                    \n",
    "printNos(5)"
   ]
  },
  {
   "cell_type": "raw",
   "id": "4c6e53b2-daec-44c0-9dcf-63569f14f39a",
   "metadata": {},
   "source": [
    "Given a Integer array A[] of n elements. Your task is to complete the function PalinArray. Which will return 1 if all the elements of the Array are palindrome otherwise it will return 0.\n",
    "\n",
    "Example 1:\n",
    "\n",
    "Input: 5 111 222 333 444 555\n",
    "\n",
    "Output: 1\n",
    "\n",
    "Explanation: A[0] = 111 //which is a palindrome number. A[1] = 222 //which is a palindrome number. A[2] = 333 //which is a palindrome number. A[3] = 444 //which is a palindrome number. A[4] = 555 //which is a palindrome number. As all numbers are palindrome so This will return 1.\n",
    "\n",
    "Example 2:\n",
    "\n",
    "Input: 3 121 131 20\n",
    "\n",
    "Output: 0\n",
    "\n",
    "Explanation: 20 is not a palindrome hence the output is 0.\n",
    "\n",
    "Constraints: 1 <=T<= 50 1 <=n<= 20 1 <=A[]<= 10000"
   ]
  },
  {
   "cell_type": "code",
   "execution_count": null,
   "id": "3634517a-877b-4d9f-ad83-2e0b83cbaccb",
   "metadata": {},
   "outputs": [],
   "source": [
    "# Loop solution\n",
    "\n",
    "n = int(input(\"No of Arrays:\"))\n",
    "\n",
    "a = []\n",
    "a_rev = []\n",
    "pal_check = []\n",
    "\n",
    "for i in range(n):\n",
    "    array = int(input(\"Enter:\"))\n",
    "    a.append(array)\n",
    "\n",
    "x = 0\n",
    "while x <= len(a):\n",
    "    pal_num = a[x]\n",
    "    pal_num_rev = str(pal_num)\n",
    "    pal_num_rev = int(pal_num_rev[::-1])\n",
    "    a_rev.append(pal_num_rev)\n",
    "    x +=1\n",
    "    if x == len(a):\n",
    "        break\n",
    "y = 0\n",
    "while y <=len(a):\n",
    "    if a[y] == a_rev[y]:\n",
    "        pal_check.append(1)\n",
    "    else:\n",
    "        pal_check.append(0)\n",
    "    y +=1\n",
    "    if y == len(a):\n",
    "        break\n",
    "    break\n",
    "\n",
    "if \"0\" in str(pal_check):\n",
    "    print(0)\n",
    "else:\n",
    "    print(1)\n",
    "          "
   ]
  },
  {
   "cell_type": "code",
   "execution_count": null,
   "id": "513db445-a55d-4314-b31f-0a088b4760d6",
   "metadata": {},
   "outputs": [],
   "source": [
    "# Function solution\n",
    "\n",
    "def PalinArray(arr, n):\n",
    "    \n",
    "    c = 0\n",
    "    for i in arr:\n",
    "        a = str(i)\n",
    "        b = a[::-1]\n",
    "        if a == b:\n",
    "            c += 1\n",
    "    \n",
    "    if c == n:\n",
    "        return 1\n",
    "    else:\n",
    "        return 0\n",
    "\n",
    "PalinArray([212, 303, 404],3)"
   ]
  },
  {
   "cell_type": "raw",
   "id": "c922013b-23af-4f31-a703-d08ca7ec9d5f",
   "metadata": {},
   "source": [
    "Given an array of N integers. Your task is to print the sum of all of the integers.\n",
    " \n",
    "\n",
    "Example 1:\n",
    "\n",
    "Input:\n",
    "4\n",
    "1 2 3 4\n",
    "Output:\n",
    "10\n",
    " \n",
    "\n",
    "Example 2:\n",
    "\n",
    "Input:\n",
    "6\n",
    "5 8 3 10 22 45\n",
    "Output:\n",
    "93\n",
    " \n",
    "\n",
    "Your Task:  \n",
    "You don't need to read input or print anything. Your task is to complete the function getSum() which takes the array A[] and its size N as inputs and returns the sum of array in a new line.\n",
    "\n",
    "\n",
    "Expected Time Complexity: O(N)\n",
    "Expected Auxiliary Space: O(1)\n",
    "\n",
    " \n",
    "\n",
    "Constraints:\n",
    "1 ≤ N ≤ 106\n",
    "0 ≤ Arr[i] ≤ 200"
   ]
  },
  {
   "cell_type": "code",
   "execution_count": null,
   "id": "2fc58c74-6a00-4045-860d-5fff98ce9216",
   "metadata": {},
   "outputs": [],
   "source": [
    "def getSum(arr, n):\n",
    "    \n",
    "    return sum(arr)\n",
    "\n",
    "getSum([200, 300], 2)"
   ]
  }
 ],
 "metadata": {
  "kernelspec": {
   "display_name": "Python 3 (ipykernel)",
   "language": "python",
   "name": "python3"
  },
  "language_info": {
   "codemirror_mode": {
    "name": "ipython",
    "version": 3
   },
   "file_extension": ".py",
   "mimetype": "text/x-python",
   "name": "python",
   "nbconvert_exporter": "python",
   "pygments_lexer": "ipython3",
   "version": "3.9.12"
  }
 },
 "nbformat": 4,
 "nbformat_minor": 5
}
