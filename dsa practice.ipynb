{
 "cells": [
  {
   "cell_type": "raw",
   "id": "77401a97-2ab6-475d-b85a-f4ded63d1f8c",
   "metadata": {},
   "source": [
    "Given a number N. The task is to complete the function convertFive() which replace all zeros in the number with 5 and returns the number.\n",
    "\n",
    "Input:\n",
    "The first line of input contains an integer T, denoting the number of testcases. Then T testcases follow. Each testcase contains a single integer N denoting the number.\n",
    "\n",
    "Output:\n",
    "The function will return integer where all zero's are converted to 5.\n",
    "\n",
    "User Task:\n",
    "Since this is a functional problem you don't have to worry about input, you just have to complete the function convertFive().\n",
    "\n",
    "Constraints:\n",
    "1 <= T <= 103\n",
    "1 <= N <= 104"
   ]
  },
  {
   "cell_type": "code",
   "execution_count": null,
   "id": "3cf2ecde-2859-4f16-9fdc-3a9c4dafbead",
   "metadata": {},
   "outputs": [],
   "source": [
    "#function should return an integer\n",
    "#your task is to compplete this function\n",
    "class Solution:\n",
    "    def convertFive(self,n):\n",
    "        #Code here"
   ]
  },
  {
   "cell_type": "code",
   "execution_count": 41,
   "id": "3fde3f34-d51b-467d-a75f-0979ab7024f0",
   "metadata": {},
   "outputs": [
    {
     "name": "stdout",
     "output_type": "stream",
     "text": [
      "[1, 152, 25, 255, 355, 455]\n"
     ]
    }
   ],
   "source": [
    "# Test script\n",
    "\n",
    "T = []\n",
    "\n",
    "def convertFive(*numbers):\n",
    "    for i in range(len(numbers)):\n",
    "        a = (str(numbers[i])).replace(\"0\",\"5\")\n",
    "        b = int(a)\n",
    "        T.append(b)\n",
    "        \n",
    "\n",
    "convertFive(1, 102, 20, 205, 300, 400)\n",
    "print(T)"
   ]
  },
  {
   "cell_type": "code",
   "execution_count": null,
   "id": "94d049d4-07d6-4d6c-8d63-6934fe21ed12",
   "metadata": {},
   "outputs": [
    {
     "name": "stdout",
     "output_type": "stream",
     "text": [
      "[1, 155, 152, 25, 255, 355, 455]\n"
     ]
    }
   ],
   "source": [
    "# Test script 2\n",
    "\n",
    "N = [1, 100, 102, 20, 205, 300, 400]\n",
    "T = []\n",
    "\n",
    "def convertFive(*numbers):\n",
    "    for i in N:\n",
    "        a = (str(i)).replace(\"0\",\"5\")\n",
    "        b = int(a)\n",
    "        T.append(b)\n",
    "\n",
    "convertFive(N)\n",
    "print(T)"
   ]
  },
  {
   "cell_type": "code",
   "execution_count": 3,
   "id": "33855057-b45c-4526-9662-3c51c74dd6ba",
   "metadata": {},
   "outputs": [
    {
     "name": "stdout",
     "output_type": "stream",
     "text": [
      "1\n",
      "100\n",
      "102\n",
      "20\n",
      "205\n",
      "300\n",
      "400\n"
     ]
    }
   ],
   "source": [
    "N = [1, 100, 102, 20, 205, 300, 400]\n",
    "\n",
    "for i in range(len(N)): #[0,1,2,3,4,5]\n",
    "    print(N[i])\n",
    "    \n",
    "    "
   ]
  },
  {
   "cell_type": "raw",
   "id": "190dc099-1550-4df3-b119-71c43dc4de80",
   "metadata": {},
   "source": [
    "Given an array Arr of size N, print second largest element from an array.\n",
    "\n",
    "Example 1:\n",
    "    \n",
    "Input: \n",
    "N = 6\n",
    "Arr[] = {12, 35, 1, 10, 34, 1}\n",
    "Output: 34\n",
    "Explanation: The largest element of the \n",
    "array is 35 and the second largest element\n",
    "is 34.\n",
    "\n",
    "Your Task:\n",
    "You don't need to read input or print anything. Your task is to complete the function print2largest() which takes the array of integers arr and n as parameters and returns an integer denoting the answer. If 2nd largest element doesn't exist then return -1.\n",
    "\n",
    "Expected Time Complexity: O(N)\n",
    "Expected Auxiliary Space: O(1)\n",
    "\n",
    "Constraints:\n",
    "1 ≤ N ≤ 105\n",
    "1 ≤ Arri ≤ 105"
   ]
  },
  {
   "cell_type": "code",
   "execution_count": 102,
   "id": "543bc919-d20f-4e82-b33f-056759280648",
   "metadata": {},
   "outputs": [
    {
     "name": "stdout",
     "output_type": "stream",
     "text": [
      "300\n"
     ]
    }
   ],
   "source": [
    "def print2largest(Arr):\n",
    "    Arr.sort()\n",
    "    print(Arr[-2])\n",
    "    \n",
    "\n",
    "Arr = [-1, 5, 2, 33, 100, 6, 120, 500, 300, 100]\n",
    "\n",
    "print2largest(Arr)\n"
   ]
  },
  {
   "cell_type": "raw",
   "id": "0a2a980d-f56f-44b8-ac8f-664d23196480",
   "metadata": {},
   "source": [
    "Given an array Arr of N positive integers. Your task is to find the elements whose value is equal to that of its index value ( Consider 1-based indexing ).\n",
    "\n",
    "Input: \n",
    "N = 5\n",
    "Arr[] = {15, 2, 45, 12, 7}\n",
    "Output: 2\n",
    "Explanation: Only Arr[2] = 2 exists here.\n",
    "\n",
    "Your Task:  \n",
    "You don't need to read input or print anything. Your task is to complete the function valueEqualToIndex() which takes the array of integers arr[] and n as parameters and returns an array of indices where the given conditions are satified. When there is not such element exists then return an empty array of length 0.\n",
    "\n",
    "Expected Time Complexity: O(N)\n",
    "Expected Auxiliary Space: O(1)\n",
    "Note: There can be more than one element in the array which have same value as their index. You need to include every such element's index. Follows 1-based indexing of the array.\n",
    "\n",
    "Constraints:\n",
    "1 ≤ N ≤ 105\n",
    "1 ≤ Arr[i] ≤ 106"
   ]
  },
  {
   "cell_type": "code",
   "execution_count": 114,
   "id": "6e1f4a37-cedc-4a88-a357-02917051d519",
   "metadata": {},
   "outputs": [
    {
     "name": "stdout",
     "output_type": "stream",
     "text": [
      "2\n"
     ]
    }
   ],
   "source": [
    "def valueEqualToIndex(A):\n",
    "    for i in range(len(A)):\n",
    "        B = str(A[i])\n",
    "        if S in B:\n",
    "            B = int(B.count(S))\n",
    "            C.append(B)\n",
    "                    \n",
    "print(sum(C))\n",
    "\n",
    "A = [15, 2, 45, 12, 7]\n",
    "S = str(len(A))\n",
    "C = []\n",
    "\n",
    "valueEqualToIndex(A)\n",
    "    "
   ]
  },
  {
   "cell_type": "raw",
   "id": "790fcc05-173a-4e29-a5f1-d6705058dfc9",
   "metadata": {},
   "source": [
    "Given a non-empty sequence of characters str, return true if sequence is Binary, else return false\n",
    "\n",
    "Your Task:\n",
    "Complete the function isBinary() which takes an string str as input parameter and returns 1 if str is binary and returns 0 otherwise.\n",
    "\n",
    " \n",
    "\n",
    "Expected Time Complexity: O(|s|)\n",
    "Expected Auxiliary Space: O(1)\n",
    "\n",
    " \n",
    "\n",
    "Constraints:\n",
    "1 <=T<= 50\n",
    "1 <=Length of str<= 10000"
   ]
  },
  {
   "cell_type": "code",
   "execution_count": 1,
   "id": "acd76b08-f5b9-48fd-8069-d2e908358ea8",
   "metadata": {},
   "outputs": [
    {
     "name": "stdout",
     "output_type": "stream",
     "text": [
      "1\n"
     ]
    }
   ],
   "source": [
    "# String contains substring\n",
    "\n",
    "# Using the in- method\n",
    "\n",
    "def isBinary(x):\n",
    "\n",
    "    if \"1\" or \"0\" in str(x):\n",
    "        print(1)\n",
    "    else:\n",
    "        print(0)\n",
    "    \n",
    "isBinary(50)"
   ]
  },
  {
   "cell_type": "code",
   "execution_count": 1,
   "id": "4391eea3-e030-480c-bb9c-2dd48960b1cb",
   "metadata": {},
   "outputs": [
    {
     "name": "stdout",
     "output_type": "stream",
     "text": [
      "0\n"
     ]
    }
   ],
   "source": [
    "# Using the index method\n",
    "\n",
    "x = 10\n",
    "y = 100\n",
    "\n",
    "try:\n",
    "    x.index(str(y))\n",
    "    \n",
    "except:\n",
    "    print(0)\n",
    "\n",
    "else:\n",
    "    print(\"match\")\n"
   ]
  },
  {
   "cell_type": "code",
   "execution_count": 92,
   "id": "7b2679ff-29b6-4764-8d25-f3696f6dcf99",
   "metadata": {},
   "outputs": [
    {
     "name": "stdout",
     "output_type": "stream",
     "text": [
      "not found\n"
     ]
    }
   ],
   "source": [
    "# Using the find method\n",
    "\n",
    "x1 = str(1)\n",
    "x2 = str(0)\n",
    "y = str(15)\n",
    "\n",
    "if x1.find(y) != -1 and x2.find(y) != -1:\n",
    "    print(\"found\")\n",
    "else:\n",
    "    print(\"not found\")"
   ]
  },
  {
   "cell_type": "raw",
   "id": "dd4af0f8-4138-4afe-84bf-f63b179d41ea",
   "metadata": {},
   "source": [
    "You are given an array A of size N. You need to print elements of A in alternate order (starting from index 0).\n",
    "\n",
    "Your Task:\n",
    "Since this is a function problem, you just need to complete the provided function void print(int ar[],int n)\n",
    "\n",
    "Constraints:\n",
    "1 <= N <= 105\n",
    "1 <= Ai <= 105\n",
    "\n",
    "Expected Time Complexity: O(n)\n",
    "Expected Auxiliary Space: O(1)"
   ]
  },
  {
   "cell_type": "code",
   "execution_count": 77,
   "id": "7a7e438b-a58b-442c-9ede-782ce7e0fa36",
   "metadata": {},
   "outputs": [
    {
     "name": "stdout",
     "output_type": "stream",
     "text": [
      "[75  7 59 93 58 18 60 96 25 74 65 30]\n",
      "59\n",
      "58\n",
      "60\n",
      "25\n",
      "65\n",
      "[75, 59, 58, 60, 25, 65]\n"
     ]
    }
   ],
   "source": [
    "import numpy as np\n",
    "from numpy import random\n",
    "\n",
    "N = 12 #size of an array\n",
    "\n",
    "x = random.randint(1, 100, size = N)\n",
    "\n",
    "A = np.array(x)\n",
    "print(A)\n",
    "\n",
    "Ai = []\n",
    "\n",
    "i = 0\n",
    "Ai.append(x[0])\n",
    "\n",
    "while i < N:\n",
    "    i +=2\n",
    "    if i < N:\n",
    "        print(x[i])\n",
    "        Ai.append(x[i])\n",
    "    \n",
    "print(Ai)"
   ]
  },
  {
   "cell_type": "code",
   "execution_count": 90,
   "id": "175458cf-7992-49d6-bc3d-ab4276c91e2a",
   "metadata": {},
   "outputs": [
    {
     "name": "stdout",
     "output_type": "stream",
     "text": [
      "[51 17 60 48 51 58 43 98  2 95 68 33]\n",
      "[51, 60, 51, 43, 2, 68]\n"
     ]
    }
   ],
   "source": [
    "import numpy as np\n",
    "from numpy import random\n",
    "\n",
    "def myindex(N):\n",
    "    x = random.randint(1, 100, size = N)\n",
    "    \n",
    "    print(x)\n",
    "    \n",
    "    Ai = []\n",
    "    i = 0\n",
    "    Ai.append(x[i])\n",
    "    \n",
    "    while i < N:\n",
    "        i +=2\n",
    "        if i < N:\n",
    "            Ai.append(x[i])\n",
    "    print(Ai)\n",
    "    \n",
    "myindex(12)\n",
    "\n"
   ]
  },
  {
   "cell_type": "raw",
   "id": "9f833d15-c4f0-4e62-a3ea-17b22676bc99",
   "metadata": {},
   "source": [
    "Write a program to find the sum of the given series 1+2+3+ . . . . . .(N terms) \n",
    "\n",
    "Example 1:\n",
    "\n",
    "Input:\n",
    "N = 1\n",
    "Output: 1\n",
    "Explanation: For n = 1, sum will be 1.\n",
    "Example 2:\n",
    "\n",
    "Input:\n",
    "N = 5\n",
    "Output: 15\n",
    "Explanation: For n = 5, sum will be 1\n",
    "+ 2 + 3 + 4 + 5 = 15.\n",
    "Your Task:\n",
    "Complete the function seriesSum() which takes single integer n, as input parameters and returns an integer denoting the answer. You don't need to print the answer or take inputs.\n",
    "\n",
    "Expected Time Complexity: O(1)\n",
    "Expected Auxiliary Space: O(1)\n",
    "\n",
    "Constraints:\n",
    "1 <= N <= 105"
   ]
  },
  {
   "cell_type": "code",
   "execution_count": 32,
   "id": "479399d9-d9e0-4274-a305-8ba84d6c90a6",
   "metadata": {},
   "outputs": [
    {
     "data": {
      "text/plain": [
       "6"
      ]
     },
     "execution_count": 32,
     "metadata": {},
     "output_type": "execute_result"
    }
   ],
   "source": [
    "i = 3\n",
    "j = 0\n",
    "\n",
    "A = []\n",
    "\n",
    "while j <= i:\n",
    "    j += 1\n",
    "    A.append(j)\n",
    "    if j == i:\n",
    "        break\n",
    "sum(A)"
   ]
  },
  {
   "cell_type": "code",
   "execution_count": 35,
   "id": "f6d8579b-1968-438e-97c8-6649c8a560d1",
   "metadata": {},
   "outputs": [
    {
     "name": "stdout",
     "output_type": "stream",
     "text": [
      "6\n"
     ]
    }
   ],
   "source": [
    "def seriesSum(i):\n",
    "    \n",
    "    j = 0\n",
    "    A = []\n",
    "    \n",
    "    while j <= i:\n",
    "        j +=1\n",
    "        A.append(j)\n",
    "        if j == i:\n",
    "            break\n",
    "    print(sum(A))\n",
    "\n",
    "seriesSum(3)"
   ]
  },
  {
   "cell_type": "raw",
   "id": "7b5064fa-3eff-4231-b6a1-d0ee8f984ec2",
   "metadata": {},
   "source": [
    "You are given a number N. You need to print the pattern for the given value of N.\n",
    "\n",
    "For N = 2 the pattern will be \n",
    "2 2 1 1\n",
    "2 1\n",
    "\n",
    "For N = 3 the pattern will be \n",
    "3 3 3 2 2 2 1 1 1\n",
    "3 3 2 2 1 1\n",
    "3 2 1\n",
    "\n",
    "Note: Instead of printing a new line print a \"$\" without quotes. After printing the total output, end of the line is expected."
   ]
  },
  {
   "cell_type": "code",
   "execution_count": 47,
   "id": "af12363e-7402-4d22-bc09-9513ac110b30",
   "metadata": {},
   "outputs": [
    {
     "name": "stdout",
     "output_type": "stream",
     "text": [
      "333 222 111 $ 33 22 11 $ 3 2 1 $ "
     ]
    }
   ],
   "source": [
    "def print_pattern(N):\n",
    "\n",
    "    for i in range (N, 0, -1):\n",
    "        for j in range (N, 0, -1):\n",
    "            print(str(j)*i, end = \" \")\n",
    "        print(\"$\", end = \" \")\n",
    "\n",
    "print_pattern(3)"
   ]
  },
  {
   "cell_type": "raw",
   "id": "c72f572e-a4de-4140-8d7e-9df0a81aab32",
   "metadata": {},
   "source": [
    "Print numbers from 1 to N without the help of loops.\n",
    "\n",
    "Example 1:\n",
    "\n",
    "Input:\n",
    "N = 10\n",
    "Output: 1 2 3 4 5 6 7 8 9 10\n",
    "\n",
    "Example 2:\n",
    "\n",
    "Input:\n",
    "N = 5\n",
    "Output: 1 2 3 4 5\n",
    " \n",
    "\n",
    "Your Task:\n",
    "This is a function problem. You only need to complete the function printNos() that takes N as parameter and prints number from 1 to N recursively. Don't print newline, it will be added by the driver code."
   ]
  },
  {
   "cell_type": "code",
   "execution_count": 7,
   "id": "500a72e2-d5fd-4a3d-a010-3f76da4ca93c",
   "metadata": {},
   "outputs": [
    {
     "data": {
      "text/plain": [
       "[1, 2, 3, 4, 5]"
      ]
     },
     "execution_count": 7,
     "metadata": {},
     "output_type": "execute_result"
    }
   ],
   "source": [
    "class Solution:\n",
    "    def printTillN(n):\n",
    "        if n >=1:\n",
    "            result = list(range(1, n+1, +1))\n",
    "            return result\n",
    "        \n",
    "Solution.printTillN(5)      "
   ]
  },
  {
   "cell_type": "code",
   "execution_count": 41,
   "id": "eb005fc5-16e5-4a2a-896c-0ea2fc5aacea",
   "metadata": {},
   "outputs": [],
   "source": [
    "class Solution:    \n",
    "    def printTillN(self,N):\n",
    "        if (N>0):\n",
    "            Solution.printTillN(self, N-1)\n",
    "            print(N, end=\" \")\n"
   ]
  },
  {
   "cell_type": "raw",
   "id": "4c6e53b2-daec-44c0-9dcf-63569f14f39a",
   "metadata": {},
   "source": [
    "Given a Integer array A[] of n elements. Your task is to complete the function PalinArray. Which will return 1 if all the elements of the Array are palindrome otherwise it will return 0.\n",
    "\n",
    "Example 1:\n",
    "\n",
    "Input: 5 111 222 333 444 555\n",
    "\n",
    "Output: 1\n",
    "\n",
    "Explanation: A[0] = 111 //which is a palindrome number. A[1] = 222 //which is a palindrome number. A[2] = 333 //which is a palindrome number. A[3] = 444 //which is a palindrome number. A[4] = 555 //which is a palindrome number. As all numbers are palindrome so This will return 1.\n",
    "\n",
    "Example 2:\n",
    "\n",
    "Input: 3 121 131 20\n",
    "\n",
    "Output: 0\n",
    "\n",
    "Explanation: 20 is not a palindrome hence the output is 0.\n",
    "\n",
    "Constraints: 1 <=T<= 50 1 <=n<= 20 1 <=A[]<= 10000"
   ]
  },
  {
   "cell_type": "code",
   "execution_count": 4,
   "id": "3634517a-877b-4d9f-ad83-2e0b83cbaccb",
   "metadata": {},
   "outputs": [
    {
     "name": "stdout",
     "output_type": "stream",
     "text": [
      "No of Arrays:3\n",
      "Enter:101\n",
      "Enter:202\n",
      "Enter:303\n",
      "1\n"
     ]
    }
   ],
   "source": [
    "# Loop solution\n",
    "\n",
    "n = int(input(\"No of Arrays:\"))\n",
    "\n",
    "a = []\n",
    "a_rev = []\n",
    "pal_check = []\n",
    "\n",
    "for i in range(n):\n",
    "    array = int(input(\"Enter:\"))\n",
    "    a.append(array)\n",
    "\n",
    "x = 0\n",
    "while x <= len(a):\n",
    "    pal_num = a[x]\n",
    "    pal_num_rev = str(pal_num)\n",
    "    pal_num_rev = int(pal_num_rev[::-1])\n",
    "    a_rev.append(pal_num_rev)\n",
    "    x +=1\n",
    "    if x == len(a):\n",
    "        break\n",
    "y = 0\n",
    "while y <=len(a):\n",
    "    if a[y] == a_rev[y]:\n",
    "        pal_check.append(1)\n",
    "    else:\n",
    "        pal_check.append(0)\n",
    "    y +=1\n",
    "    if y == len(a):\n",
    "        break\n",
    "    break\n",
    "\n",
    "if \"0\" in str(pal_check):\n",
    "    print(0)\n",
    "else:\n",
    "    print(1)\n",
    "          "
   ]
  },
  {
   "cell_type": "code",
   "execution_count": 5,
   "id": "513db445-a55d-4314-b31f-0a088b4760d6",
   "metadata": {},
   "outputs": [
    {
     "data": {
      "text/plain": [
       "1"
      ]
     },
     "execution_count": 5,
     "metadata": {},
     "output_type": "execute_result"
    }
   ],
   "source": [
    "# Function solution\n",
    "\n",
    "def PalinArray(arr, n):\n",
    "    \n",
    "    c = 0\n",
    "    for i in arr:\n",
    "        a = str(i)\n",
    "        b = a[::-1]\n",
    "        if a == b:\n",
    "            c += 1\n",
    "    \n",
    "    if c == n:\n",
    "        return 1\n",
    "    else:\n",
    "        return 0\n",
    "\n",
    "PalinArray([212, 303, 404],3)"
   ]
  },
  {
   "cell_type": "raw",
   "id": "c922013b-23af-4f31-a703-d08ca7ec9d5f",
   "metadata": {},
   "source": [
    "Given an array of N integers. Your task is to print the sum of all of the integers.\n",
    " \n",
    "\n",
    "Example 1:\n",
    "\n",
    "Input:\n",
    "4\n",
    "1 2 3 4\n",
    "Output:\n",
    "10\n",
    " \n",
    "\n",
    "Example 2:\n",
    "\n",
    "Input:\n",
    "6\n",
    "5 8 3 10 22 45\n",
    "Output:\n",
    "93\n",
    " \n",
    "\n",
    "Your Task:  \n",
    "You don't need to read input or print anything. Your task is to complete the function getSum() which takes the array A[] and its size N as inputs and returns the sum of array in a new line.\n",
    "\n",
    "\n",
    "Expected Time Complexity: O(N)\n",
    "Expected Auxiliary Space: O(1)\n",
    "\n",
    " \n",
    "\n",
    "Constraints:\n",
    "1 ≤ N ≤ 106\n",
    "0 ≤ Arr[i] ≤ 200"
   ]
  },
  {
   "cell_type": "code",
   "execution_count": 43,
   "id": "8e84dc3a-2998-455c-aec3-5f57eaa39ce8",
   "metadata": {},
   "outputs": [
    {
     "name": "stdin",
     "output_type": "stream",
     "text": [
      "Enter the number of arrays:  2\n",
      "Enter the elements of the array:  100\n",
      "Enter the elements of the array:  200\n"
     ]
    },
    {
     "name": "stdout",
     "output_type": "stream",
     "text": [
      "The sum of the array is  300\n"
     ]
    }
   ],
   "source": [
    "# self-inserting function with user inputs\n",
    "\n",
    "class Solution:\n",
    "    \n",
    "    def _sum(self, arr, n):\n",
    "        self.array = arr\n",
    "        self.elements = n\n",
    "        \n",
    "        return(sum(arr))\n",
    "               \n",
    "n = int(input(\"Enter the number of arrays: \"))\n",
    "\n",
    "arr = []\n",
    "for i in range(0,n):\n",
    "    i = int(input(\"Enter the elements of the array: \"))\n",
    "    arr.append(i)\n",
    "\n",
    "Solution._sum = (arr , n)\n",
    "print(\"The sum of the array is \", sum(arr))\n",
    "        "
   ]
  },
  {
   "cell_type": "code",
   "execution_count": 45,
   "id": "b0fbea86-e767-43d2-aa93-f9f8aede2a5c",
   "metadata": {},
   "outputs": [
    {
     "data": {
      "text/plain": [
       "600"
      ]
     },
     "execution_count": 45,
     "metadata": {},
     "output_type": "execute_result"
    }
   ],
   "source": [
    "class Solution:\n",
    "    \n",
    "    def _sum(self, arr, n):\n",
    "        self.array = arr\n",
    "        self.elements = n\n",
    "        return(sum(arr))\n",
    "        \n",
    "e = Solution()\n",
    "e._sum([200, 300, 100], 3)"
   ]
  },
  {
   "cell_type": "raw",
   "id": "7a0597c4-43a9-40f3-8f04-bfdcbba74731",
   "metadata": {},
   "source": [
    "Given an array arr[] of N integers, calculate the median\n",
    " \n",
    "\n",
    "Example 1:\n",
    "\n",
    "Input: N = 5\n",
    "arr[] = 90 100 78 89 67\n",
    "Output: 89\n",
    "Explanation: After sorting the array \n",
    "middle element is the median \n",
    "\n",
    "Example 2:\n",
    "\n",
    "Input: N = 4\n",
    "arr[] = 56 67 30 79\n",
    "Output: 61\n",
    "Explanation: In case of even number of \n",
    "elements, average of two middle elements \n",
    "is the median.\n",
    "\n",
    " \n",
    "\n",
    "Your Task:\n",
    "You don't need to read or print anything. Your task is to complete the function find_median() which takes the array as input parameter and returns the floor value of the median.\n",
    " \n",
    "\n",
    "Expected Time Complexity: O(n * log(n))\n",
    "Expected Space Complexity: O(1)\n",
    " \n",
    "\n",
    "Constraints:\n",
    "1 <= Length of Array <= 100\n",
    "1 <= Elements of Array <= 100"
   ]
  },
  {
   "cell_type": "code",
   "execution_count": 55,
   "id": "6bca5bd4-043b-4fd6-9f3b-22d303f5999a",
   "metadata": {},
   "outputs": [
    {
     "name": "stdin",
     "output_type": "stream",
     "text": [
      "Enter N of integers:  6\n",
      "Enter the elements of the array:  1\n",
      "Enter the elements of the array:  2\n",
      "Enter the elements of the array:  3\n",
      "Enter the elements of the array:  4\n",
      "Enter the elements of the array:  5\n",
      "Enter the elements of the array:  6\n"
     ]
    },
    {
     "name": "stdout",
     "output_type": "stream",
     "text": [
      "[1, 2, 3, 4, 5, 6] <class 'list'>\n",
      "3.5\n"
     ]
    }
   ],
   "source": [
    "class Solution:\n",
    "    def find_median(self, v):\n",
    "        self.integers = v\n",
    "        arr = []\n",
    "        \n",
    "        for i in range(0,v):\n",
    "            array = int(input(\"Enter the elements of the array: \"))\n",
    "            arr.append(array)\n",
    "            \n",
    "        arr.sort()\n",
    "        print(arr, type(arr))\n",
    "        \n",
    "        if len(arr) % 2 != 0:\n",
    "            x = int((len(arr) +1 )/2)-1\n",
    "            med = arr[x]\n",
    "            print(med)\n",
    "            \n",
    "        else:\n",
    "            x = int((len(arr))/2)-1\n",
    "            y = int((len(arr) +2)/2)-1\n",
    "            med = (arr[x] + arr[y])/2\n",
    "            print(med)\n",
    "        \n",
    "        \n",
    "        \n",
    "v = int(input(\"Enter N of integers: \"))\n",
    "\n",
    "e = Solution() \n",
    "e.find_median(v)"
   ]
  },
  {
   "cell_type": "code",
   "execution_count": 56,
   "id": "a76559bd-9751-4e1d-99df-7a69bbcb36ff",
   "metadata": {},
   "outputs": [
    {
     "name": "stdout",
     "output_type": "stream",
     "text": [
      "[2, 4, 5] <class 'list'>\n",
      "4\n"
     ]
    }
   ],
   "source": [
    "class Solution:\n",
    "    def find_median(self, v, array):\n",
    "        self.integers = v\n",
    "        self.arr = array\n",
    "        \n",
    "        arr.sort()\n",
    "        print(arr, type(arr))\n",
    "        \n",
    "        if len(arr) % 2 != 0:\n",
    "            x = int((len(arr) +1 )/2)-1\n",
    "            med = arr[x]\n",
    "            print(med)\n",
    "            \n",
    "        else:\n",
    "            x = int((len(arr))/2)-1\n",
    "            y = int((len(arr) +2)/2)-1\n",
    "            med = (arr[x] + arr[y])/2\n",
    "            print(med)\n",
    "        \n",
    "        \n",
    "e = Solution()\n",
    "e.find_median(3, [1, 2, 3])\n"
   ]
  },
  {
   "cell_type": "code",
   "execution_count": 60,
   "id": "7a43200f-bcdd-4e34-b257-958cea769947",
   "metadata": {},
   "outputs": [
    {
     "name": "stdout",
     "output_type": "stream",
     "text": [
      "4.0\n"
     ]
    },
    {
     "data": {
      "text/plain": [
       "4.0"
      ]
     },
     "execution_count": 60,
     "metadata": {},
     "output_type": "execute_result"
    }
   ],
   "source": [
    "# objects within the class solution\n",
    "\n",
    "class Solution:\n",
    "    integers = 4\n",
    "    array = [1, 3, 5, 10]\n",
    "    \n",
    "    if len(array) % 2 != 0:\n",
    "        x = int((len(array) +1 )/2)-1\n",
    "        med = array[x]\n",
    "        print(med)\n",
    "            \n",
    "    else:\n",
    "        x = int((len(array))/2)-1\n",
    "        y = int((len(array) +2)/2)-1\n",
    "        med = (array[x] + array[y])/2\n",
    "        print(med)\n",
    "    \n",
    "    \n",
    "# assigning an object to the class\n",
    "\n",
    "e = Solution()\n",
    "\n",
    "# accessing the elements in the class (answer)\n",
    "\n",
    "e.med"
   ]
  },
  {
   "cell_type": "raw",
   "id": "38adf90d-f517-43e8-b574-e6a29ef0f78d",
   "metadata": {},
   "source": [
    "Given an sorted array A of size N. Find number of elements which are less than or equal to given element X.\n",
    "\n",
    " \n",
    "\n",
    "Example 1:\n",
    "\n",
    "Input:\n",
    "N = 6\n",
    "A[] = {1, 2, 4, 5, 8, 10}\n",
    "X = 9\n",
    "Output:\n",
    "5\n",
    " \n",
    "\n",
    "Example 2:\n",
    "\n",
    "Input:\n",
    "N = 7\n",
    "A[] = {1, 2, 2, 2, 5, 7, 9}\n",
    "X = 2\n",
    "Output:\n",
    "4\n",
    " \n",
    "\n",
    "Your Task:  \n",
    "You don't need to read input or print anything. Your task is to complete the function countOfElements() which takes the array A[], its size N and an integer X as inputs and returns the number of elements which are less than or equal to given element.\n",
    "\n",
    " \n",
    "\n",
    "Expected Time Complexity: O(N)\n",
    "Expected Auxiliary Space: O(1)\n",
    "\n",
    " \n",
    "\n",
    "Constraints:\n",
    "1 <= N <= 105\n",
    "1 <= Ai <= 105\n",
    "0 <= X <= 105"
   ]
  },
  {
   "cell_type": "code",
   "execution_count": 14,
   "id": "fa52de1d-a534-4242-98bb-7059da64993b",
   "metadata": {},
   "outputs": [
    {
     "name": "stdout",
     "output_type": "stream",
     "text": [
      "7\n"
     ]
    }
   ],
   "source": [
    "# Using append method\n",
    "\n",
    "def countOfElements(A, N, X):\n",
    "    \n",
    "    A.sort()\n",
    "    \n",
    "    SMALL = []\n",
    "    \n",
    "    for i in A:\n",
    "        if i <= X:\n",
    "            SMALL.append(i)\n",
    "        else:\n",
    "            break\n",
    "    print(len(SMALL))\n",
    "\n",
    "A = [1, 2, 2, 3, 5, 6, 10, 12]\n",
    "N = len(A)\n",
    "X = 10\n",
    "\n",
    "countOfElements(A, N, X)   "
   ]
  },
  {
   "cell_type": "code",
   "execution_count": 25,
   "id": "23edbbbb-8c38-4eda-b295-cb8b45c07f82",
   "metadata": {},
   "outputs": [
    {
     "data": {
      "text/plain": [
       "7"
      ]
     },
     "execution_count": 25,
     "metadata": {},
     "output_type": "execute_result"
    }
   ],
   "source": [
    "# Using count method\n",
    "\n",
    "def countOfElements(A, N, X):\n",
    "    \n",
    "    A.sort()\n",
    "    \n",
    "    count = 0\n",
    "    for i in A:\n",
    "        if i <=X:\n",
    "            count += 1\n",
    "        else:\n",
    "            break\n",
    "    return(count)\n",
    "\n",
    "A = [1, 2, 2, 3, 5, 6, 10, 12]\n",
    "N = len(A)\n",
    "X = 10\n",
    "\n",
    "countOfElements(A, N, X)"
   ]
  },
  {
   "cell_type": "raw",
   "id": "f0fc735c-8e66-4bb8-9f71-3a249c788b27",
   "metadata": {},
   "source": [
    "For a given 3 digit number, find whether it is armstrong number or not. An Armstrong number of three digits is an integer such that the sum of the cubes of its digits is equal to the number itself. Return \"Yes\" if it is a armstrong number else return \"No\".\n",
    "NOTE: 371 is an Armstrong number since 33 + 73 + 13 = 371\n",
    "\n",
    "Example 1:\n",
    "\n",
    "Input: N = 153\n",
    "Output: \"Yes\"\n",
    "Explanation: 153 is an Armstrong number\n",
    "since 13 + 53 + 33 = 153.\n",
    "Hence answer is \"Yes\".\n",
    "Example 2:\n",
    "\n",
    "Input: N = 370\n",
    "Output: \"Yes\"\n",
    "Explanation: 370 is an Armstrong number\n",
    "since 33 + 73 + 03 = 370.\n",
    "Hence answer is \"Yes\".\n",
    "\n",
    "Your Task:  \n",
    "You dont need to read input or print anything. Complete the function armstrongNumber() which takes n as input parameter and returns \"Yes\" if it is a armstrong number else returns \"No\"..\n",
    "\n",
    "Expected Time Complexity: O(1)\n",
    "Expected Auxiliary Space: O(1)\n",
    "\n",
    "Constraints:\n",
    "100 ≤ n <1000"
   ]
  },
  {
   "cell_type": "code",
   "execution_count": 70,
   "id": "c0822e0e-8fab-4103-9639-ee3caec32180",
   "metadata": {},
   "outputs": [
    {
     "name": "stdout",
     "output_type": "stream",
     "text": [
      "Yes\n",
      "153\n"
     ]
    }
   ],
   "source": [
    "N = 153\n",
    "\n",
    "A = str(N)\n",
    "A.split()\n",
    "\n",
    "sum_cubes = []\n",
    "\n",
    "for i in A:\n",
    "    sum_cubes.append(int(i)**3)\n",
    "    \n",
    "if sum(sum_cubes) == N:\n",
    "    print(\"Yes\")\n",
    "else:\n",
    "    print(\"No\")\n",
    "    \n",
    "print(sum(sum_cubes))\n"
   ]
  },
  {
   "cell_type": "code",
   "execution_count": 76,
   "id": "19a54582-bb52-463a-87c0-f18e0aa4b9a6",
   "metadata": {},
   "outputs": [
    {
     "name": "stdout",
     "output_type": "stream",
     "text": [
      "Yes\n",
      "153\n"
     ]
    }
   ],
   "source": [
    "N = 153\n",
    "\n",
    "A = str(N)\n",
    "A.split()\n",
    "\n",
    "sum_cubes = 0\n",
    "for i in A:\n",
    "    sum_cubes += int(i)**3\n",
    "\n",
    "if sum_cubes == N:\n",
    "    print(\"Yes\")\n",
    "else:\n",
    "    print(\"No\")\n",
    "\n",
    "print(sum_cubes)"
   ]
  },
  {
   "cell_type": "code",
   "execution_count": 101,
   "id": "ec0cd89a-26b2-44cf-8499-20cd112a170f",
   "metadata": {},
   "outputs": [
    {
     "name": "stdout",
     "output_type": "stream",
     "text": [
      "153\n"
     ]
    },
    {
     "data": {
      "text/plain": [
       "'Yes'"
      ]
     },
     "execution_count": 101,
     "metadata": {},
     "output_type": "execute_result"
    }
   ],
   "source": [
    "def armstrongNumber(ob):\n",
    "    \n",
    "    ob_str = str(ob)\n",
    "    ob_str.split()\n",
    "        \n",
    "    sum_cubes = 0\n",
    "    for i in ob_str:\n",
    "        sum_cubes += int(i)**3\n",
    "            \n",
    "    print(sum_cubes)\n",
    "            \n",
    "    if sum_cubes == ob:\n",
    "        return(\"Yes\")\n",
    "    else:\n",
    "        return(\"No\")\n",
    "\n",
    "armstrongNumber(153)"
   ]
  },
  {
   "cell_type": "code",
   "execution_count": 40,
   "id": "84510c8f-a81c-410b-94e8-229ce2d10d79",
   "metadata": {},
   "outputs": [
    {
     "name": "stdout",
     "output_type": "stream",
     "text": [
      "153\n"
     ]
    },
    {
     "data": {
      "text/plain": [
       "'Yes'"
      ]
     },
     "execution_count": 40,
     "metadata": {},
     "output_type": "execute_result"
    }
   ],
   "source": [
    "class Solution:\n",
    "    def armstrongNumber(self, ob):\n",
    "        \n",
    "        self.object = ob\n",
    "        \n",
    "        ob_str = str(ob)\n",
    "        ob_str.split()\n",
    "        \n",
    "        sum_cubes = 0\n",
    "        for i in ob_str:\n",
    "            sum_cubes += int(i)**3\n",
    "            \n",
    "        print(sum_cubes)\n",
    "            \n",
    "        if sum_cubes == ob:\n",
    "            return(\"Yes\")\n",
    "        else:\n",
    "            return(\"No\")\n",
    "\n",
    "e = Solution()\n",
    "e.armstrongNumber(153)\n"
   ]
  },
  {
   "cell_type": "raw",
   "id": "2bf4a159-ae38-4d87-87ea-2c2e9b81a74b",
   "metadata": {},
   "source": [
    "Given an array Arr of size N, swap the Kth element from beginning with Kth element from end.\n",
    "\n",
    "Example 1:\n",
    "\n",
    "Input:\n",
    "N = 8, K = 3\n",
    "Arr[] = {1, 2, 3, 4, 5, 6, 7, 8}\n",
    "Output: 1 2 6 4 5 3 7 8\n",
    "Explanation: Kth element from beginning is\n",
    "3 and from end is 6.\n",
    "Example 2:\n",
    "\n",
    "Input:\n",
    "N = 5, K = 2\n",
    "Arr[] = {5, 3, 6, 1, 2}\n",
    "Output: 5 1 6 3 2\n",
    "Explanation: Kth element from beginning is\n",
    "3 and from end is 1.\n",
    "Your Task:\n",
    "You don't need to read input or print anything. Your task is to complete the function swapKth() which takes the array of integers arr, n and k as parameters and returns void. You have to modify the array itself.\n",
    "\n",
    "Expected Time Complexity: O(1)\n",
    "Expected Auxiliary Space: O(1)\n",
    "\n",
    "Constraints:\n",
    "1 ≤ K ≤ N ≤ 105\n",
    "1 ≤ Arr[i] ≤ 103"
   ]
  },
  {
   "cell_type": "code",
   "execution_count": 29,
   "id": "9ad8ea6f-1ea1-44f1-ae4c-77756792e002",
   "metadata": {},
   "outputs": [
    {
     "name": "stdout",
     "output_type": "stream",
     "text": [
      "[5, 1, 6, 3, 2]\n"
     ]
    }
   ],
   "source": [
    "K = 2\n",
    "\n",
    "Arr = [5, 3, 6, 1, 2]\n",
    "\n",
    "a = Arr[K-1]\n",
    "b = Arr[-K]\n",
    "\n",
    "Arr[K-1] = b\n",
    "Arr[-K] = a\n",
    "\n",
    "print(Arr)\n"
   ]
  },
  {
   "cell_type": "code",
   "execution_count": 43,
   "id": "cc45f5c5-81ee-4c97-baee-ce0f5fcd004e",
   "metadata": {},
   "outputs": [
    {
     "data": {
      "text/plain": [
       "[1, 2, 8, 4, 5, 6, 7, 3, 9, 10]"
      ]
     },
     "execution_count": 43,
     "metadata": {},
     "output_type": "execute_result"
    }
   ],
   "source": [
    "class Solution:\n",
    "    def swapKth(self,arr, n, k):\n",
    "        \n",
    "        self.arr = arr\n",
    "        self.n = n\n",
    "        self.k = k\n",
    "        \n",
    "        a = arr[k-1]\n",
    "        b = arr[-k]\n",
    "        \n",
    "        arr[k-1] = b\n",
    "        arr[-k] = a\n",
    "        \n",
    "        return(arr)\n",
    "\n",
    "arr = [1, 2, 3, 4, 5, 6, 7, 8, 9, 10]\n",
    "n = len(arr)\n",
    "k = 3\n",
    "    \n",
    "e1 = Solution()\n",
    "e1.swapKth(arr, n, k)"
   ]
  },
  {
   "cell_type": "raw",
   "id": "4349fda0-e043-4d91-bf7e-6fa1cadee749",
   "metadata": {},
   "source": [
    "Given N,  reverse the digits of N.\n",
    " \n",
    "\n",
    "Example 1:\n",
    "\n",
    "Input: 200\n",
    "Output: 2\n",
    "Explanation: By reversing the digts of \n",
    "number, number will change into 2.\n",
    "Example 2:\n",
    "\n",
    "Input : 122\n",
    "Output: 221\n",
    "Explanation: By reversing the digits of \n",
    "number, number will change into 221.\n",
    " \n",
    "\n",
    "Your Task:\n",
    "You don't need to read or print anything. Your task is to complete the function reverse_digit() which takes N as input parameter and returns the reversed number.\n",
    " \n",
    "\n",
    "Expected Time Complexity: O(Log(N))\n",
    "Expected Space Complexity: O(1)\n",
    " \n",
    "\n",
    "Constraints:\n",
    "1 <= N <= 1015"
   ]
  },
  {
   "cell_type": "code",
   "execution_count": 9,
   "id": "00b7c893-f6c3-4717-8f17-58aae01d79dc",
   "metadata": {},
   "outputs": [
    {
     "data": {
      "text/plain": [
       "2"
      ]
     },
     "execution_count": 9,
     "metadata": {},
     "output_type": "execute_result"
    }
   ],
   "source": [
    "class Solution:\n",
    "    def reverse_digit(self, n):\n",
    "        \n",
    "        self.n = n\n",
    "        \n",
    "        test = \"This is an instance within the class Solution\"\n",
    "        \n",
    "        n = str(n)\n",
    "        n = int(n[::-1])\n",
    "        return n\n",
    "    \n",
    "    \n",
    "    \n",
    "Solution().reverse_digit(200)"
   ]
  },
  {
   "cell_type": "raw",
   "id": "48ea0c23-fdba-4700-9611-42121fe34abe",
   "metadata": {},
   "source": [
    "Given the first 2 terms A1 and A2 of an Arithmetic Series.Find the Nth term of the series. \n",
    "\n",
    "Example 1:\n",
    "\n",
    "Input:\n",
    "A1=2\n",
    "A2=3\n",
    "N=4\n",
    "Output:\n",
    "5\n",
    "Explanation:\n",
    "The series is 2,3,4,5,6....\n",
    "Thus,4th term is 5.\n",
    "Example 2:\n",
    "\n",
    "Input:\n",
    "A1=1\n",
    "A2=2\n",
    "N=10\n",
    "Output:\n",
    "10\n",
    "Explanation:\n",
    "The series is1,2,3,4,5,6,7,8,9,10,11..\n",
    "Thus,10th term is 10.\n",
    "\n",
    "Your Task:\n",
    "You don't need to read input or print anything.Your Task is to complete the function nthTermOfAP() which takes three integers A1,A2 and N as input parameters and returns the nth term of the AP that has A1 and A2 as the first and second terms respectively.\n",
    "\n",
    "\n",
    "Expected Time Complexity:O(1)\n",
    "Expected Auxillary Space:O(1)\n",
    "\n",
    "\n",
    "Constraints:\n",
    "-104<=A1,A2<=104\n",
    "1<=N<=103"
   ]
  },
  {
   "cell_type": "code",
   "execution_count": 22,
   "id": "1722024a-d4f0-4871-a706-3983c5f85639",
   "metadata": {},
   "outputs": [
    {
     "data": {
      "text/plain": [
       "14"
      ]
     },
     "execution_count": 22,
     "metadata": {},
     "output_type": "execute_result"
    }
   ],
   "source": [
    "class Solution:\n",
    "    def nthTermOfAP(self,A1,A2,N):\n",
    "        self.A1 = A1\n",
    "        self.A2 = A2\n",
    "        self.N = N\n",
    "        \n",
    "        list = [self.A1, self.A2]\n",
    "        \n",
    "        \n",
    "        d = self.A2 - self.A1\n",
    "        \n",
    "        i = 0\n",
    "        while i <= self.N:\n",
    "            self.A2 += d\n",
    "            list.append(self.A2)\n",
    "            i += 1\n",
    "        \n",
    "        return list[self.N-1]\n",
    "    \n",
    "term = Solution()\n",
    "term.nthTermOfAP(5, 6, 10)"
   ]
  },
  {
   "cell_type": "code",
   "execution_count": 21,
   "id": "8db2f6f8-a5eb-40fd-afbd-8601d8d45ac4",
   "metadata": {},
   "outputs": [
    {
     "data": {
      "text/plain": [
       "-3"
      ]
     },
     "execution_count": 21,
     "metadata": {},
     "output_type": "execute_result"
    }
   ],
   "source": [
    "class Solution:\n",
    "    def nthTermOfAP(self,A1,A2,N):\n",
    "        self.A1 = A1\n",
    "        self.A2 = A2\n",
    "        self.N = N\n",
    "        \n",
    "        list = [A1, A2]\n",
    "        \n",
    "        \n",
    "        d = A2 - A1\n",
    "        \n",
    "        for i in range(N):\n",
    "            A2 += d\n",
    "            list.append(A2)\n",
    "\n",
    "        return list[N-1]\n",
    "    \n",
    "term = Solution()\n",
    "term.nthTermOfAP(6, 5, 10)"
   ]
  },
  {
   "cell_type": "code",
   "execution_count": 27,
   "id": "59902ce4-87c4-4cba-905b-39d964ee84f7",
   "metadata": {},
   "outputs": [
    {
     "data": {
      "text/plain": [
       "-3"
      ]
     },
     "execution_count": 27,
     "metadata": {},
     "output_type": "execute_result"
    }
   ],
   "source": [
    "class Solution:\n",
    "    def nthTermOfAP(self,A1,A2,N):\n",
    "        self.A1 = A1\n",
    "        self.A2 = A2\n",
    "        self.N = N\n",
    "        \n",
    "        d = (A2 - A1)\n",
    "        return A1+(N-1)*d\n",
    "\n",
    "term = Solution()\n",
    "term.nthTermOfAP(6, 5, 10)"
   ]
  },
  {
   "cell_type": "raw",
   "id": "958cd14a-2d11-44a2-8aea-3ed63efa1536",
   "metadata": {},
   "source": [
    "Given an array of N distinct elements, the task is to find all elements in array except two greatest elements in sorted order.\n",
    "\n",
    "\n",
    "Example 1:\n",
    "\n",
    "Input : \n",
    "a[] = {2, 8, 7, 1, 5}\n",
    "Output :\n",
    "1 2 5 \n",
    "Explanation :\n",
    "The output three elements have two or\n",
    "more greater elements.   \n",
    "Example 2:\n",
    "\n",
    "Input :\n",
    "a[] = {7, -2, 3, 4, 9, -1}\n",
    "Output :\n",
    "-2 -1 3 4\n",
    "\n",
    "Your Task:  \n",
    "You don't need to read input or print anything. Your task is to complete the function findElements() which takes the array A[] and its size N as inputs and return the vector sorted values denoting the elements in array which have at-least two greater elements than themselves.\n",
    "\n",
    "Expected Time Complexity: O(N*Log(N))\n",
    "Expected Auxiliary Space: O(N)\n",
    "\n",
    "Constraints:\n",
    "3 ≤ N ≤ 105\n",
    "-106 ≤ Ai ≤ 106"
   ]
  },
  {
   "cell_type": "code",
   "execution_count": 1,
   "id": "70afdd39-cbdf-4885-b874-a694221c31dc",
   "metadata": {},
   "outputs": [
    {
     "data": {
      "text/plain": [
       "[1, 2]"
      ]
     },
     "execution_count": 1,
     "metadata": {},
     "output_type": "execute_result"
    }
   ],
   "source": [
    "class Solution:\n",
    "    def findElements(self,a, n):\n",
    "        self.a = a\n",
    "        self.n = n\n",
    "        \n",
    "        self.a.sort()\n",
    "        self.a.pop()\n",
    "        self.a.pop()\n",
    "        \n",
    "        return self.a\n",
    "\n",
    "sol = Solution()\n",
    "sol.findElements([5, 2, 1, 6], 4)"
   ]
  },
  {
   "cell_type": "code",
   "execution_count": 34,
   "id": "7f31e650-56a4-4729-af14-2694f276b20a",
   "metadata": {},
   "outputs": [],
   "source": [
    "class Solution:\n",
    "    def findElements(self,a, n):\n",
    "        self.a = a\n",
    "        self.n = n\n",
    "        \n",
    "        self.a.sort()\n",
    "        \n",
    "        for i in range(2):\n",
    "            self.a.pop(-1)\n",
    "        \n",
    "        dif = self.n - 2\n",
    "        \n",
    "        for i in range(dif):\n",
    "            print(self.a[i])\n",
    "        \n",
    "\n",
    "a = [10, 11, 4, 2, 70]\n",
    "n = len(a)\n",
    "        \n",
    "sol = Solution()\n",
    "sol.findElements(a, n)"
   ]
  },
  {
   "cell_type": "code",
   "execution_count": 36,
   "id": "a7a39521-c3e6-4638-a08e-e3cd2fbeeaf9",
   "metadata": {},
   "outputs": [
    {
     "data": {
      "text/plain": [
       "[2, 4, 10]"
      ]
     },
     "execution_count": 36,
     "metadata": {},
     "output_type": "execute_result"
    }
   ],
   "source": [
    "class Solution:\n",
    "    def findElements(self,a, n):\n",
    "        self.a = a\n",
    "        self.n = n\n",
    "        \n",
    "        self.a.sort()\n",
    "        self.a.pop()\n",
    "        self.a.pop()\n",
    "        \n",
    "        return self.a\n",
    "    \n",
    "a = [10, 11, 4, 2, 70]\n",
    "n = len(a)\n",
    "        \n",
    "sol = Solution()\n",
    "sol.findElements(a, n)   "
   ]
  },
  {
   "cell_type": "code",
   "execution_count": 18,
   "id": "7d8b870f-d11c-4720-9a76-c8d2f0bfcdb1",
   "metadata": {},
   "outputs": [
    {
     "name": "stdout",
     "output_type": "stream",
     "text": [
      "[1, 2, 5, 7, 8]\n",
      "[1, 2, 5]\n"
     ]
    }
   ],
   "source": [
    "a = [2, 8, 7, 1, 5]\n",
    "\n",
    "a.sort()\n",
    "\n",
    "print(a)\n",
    "\n",
    "for i in range(2):\n",
    "    a.pop(-1)\n",
    "\n",
    "print(a)"
   ]
  },
  {
   "cell_type": "code",
   "execution_count": 20,
   "id": "a56fa1ca-8afa-4f0e-969d-fc441dd6b387",
   "metadata": {},
   "outputs": [
    {
     "name": "stdout",
     "output_type": "stream",
     "text": [
      "[1, 2, 5, 7, 8]\n",
      "[1, 2, 5]\n"
     ]
    }
   ],
   "source": [
    "a = [2, 8, 7, 1, 5]\n",
    "\n",
    "a.sort()\n",
    "\n",
    "print(a)\n",
    "\n",
    "i = 0\n",
    "while i < 2:\n",
    "    a.pop(-1)\n",
    "    i += 1\n",
    "\n",
    "print(a)"
   ]
  },
  {
   "cell_type": "raw",
   "id": "72a6ab45-bd53-4896-b7fa-bbaa89d3ca53",
   "metadata": {},
   "source": [
    "Given a string S. The task is to convert characters of string to lowercase.\n",
    "\n",
    "Example 1:\n",
    "\n",
    "Input: S = \"ABCddE\"\n",
    "Output: \"abcdde\"\n",
    "Explanation: A, B, C and E are converted to\n",
    "a, b, c and E thus all uppercase characters \n",
    "of the string converted to lowercase letter.\n",
    "Example 2:\n",
    "\n",
    "Input: S = \"LMNOppQQ\"\n",
    "Output: \"lmnoppqq\"\n",
    "Explanation: L, M, N, O, and Q are \n",
    "converted to l, m, n, o and q thus \n",
    "all uppercase characters of the \n",
    "string converted to lowercase letter.\n",
    "Your Task:  \n",
    "You dont need to read input or print anything. Complete the function toLower() which takes S as input parameter and returns the converted string.\n",
    "\n",
    "Expected Time Complexity:O(n)\n",
    "Expected Auxiliary Space: O(1) \n",
    "\n",
    "Constraints:\n",
    "1 <= |S| <= 1000\n",
    "\n",
    "Input only contains lowercase/uppercase English alphabets."
   ]
  },
  {
   "cell_type": "code",
   "execution_count": 18,
   "id": "409c146d-3d28-406d-9264-39dd5558cb74",
   "metadata": {},
   "outputs": [
    {
     "data": {
      "text/plain": [
       "'abcd'"
      ]
     },
     "execution_count": 18,
     "metadata": {},
     "output_type": "execute_result"
    }
   ],
   "source": [
    "class Solution:\n",
    "    def toLower (ob, S):\n",
    "        \n",
    "        return S.lower()\n",
    "\n",
    "Solution.toLower(0, \"AbCd\")     "
   ]
  },
  {
   "cell_type": "raw",
   "id": "fd7f623d-0eef-42e5-8a78-f59f6e41cdc9",
   "metadata": {},
   "source": [
    "Given a number N. Count the number of digits in N which evenly divides N.\n",
    "\n",
    "Note :- Evenly divides means whether N is divisible by a digit i.e. leaves a remainder 0 when divided.\n",
    " \n",
    "\n",
    "Example 1:\n",
    "\n",
    "Input:\n",
    "N = 12\n",
    "Output:\n",
    "2\n",
    "Explanation:\n",
    "1, 2 both divide 12 evenly\n",
    "Example 2:\n",
    "\n",
    "Input:\n",
    "N = 23\n",
    "Output\n",
    "0\n",
    "Explanation:\n",
    "2 and 3, none of them\n",
    "divide 23 evenly\n",
    "\n",
    "Your Task:\n",
    "You don't need to read input or print anything. Your task is to complete the function evenlyDivides() which takes an integer N as input parameters and returns an integer, total number factor of digits N which divides N evenly.\n",
    "\n",
    "\n",
    "Expected Time Complexity: O(log N)\n",
    "Expected Space Complexity: O(1)\n",
    " \n",
    "\n",
    "Constraints:\n",
    "1<=N<=105"
   ]
  },
  {
   "cell_type": "code",
   "execution_count": 74,
   "id": "04f03f87-95f7-4a24-a650-eabe70b2311b",
   "metadata": {},
   "outputs": [
    {
     "data": {
      "text/plain": [
       "2"
      ]
     },
     "execution_count": 74,
     "metadata": {},
     "output_type": "execute_result"
    }
   ],
   "source": [
    "class Solution:\n",
    "    def evenlyDivides (self, N):\n",
    "        \n",
    "        self.int = N\n",
    "        self.int = str(self.int)\n",
    "        \n",
    "        count = 0\n",
    "        \n",
    "        for i in self.int:\n",
    "            if int (i) == 0:\n",
    "                continue\n",
    "            elif int(i) != 0:\n",
    "                if int(self.int) % int(i) != 0:\n",
    "                    continue\n",
    "                elif int(self.int) % int(i) == 0:\n",
    "                    count += 1\n",
    "            \n",
    "        return count\n",
    "        \n",
    "sol = Solution()\n",
    "sol.evenlyDivides(22074)"
   ]
  },
  {
   "cell_type": "raw",
   "id": "dc93d5ed-9e23-4aec-91a6-1069b6f30d4e",
   "metadata": {},
   "source": [
    "Print the multiplication table of a given number N. \n",
    "\n",
    "\n",
    "Example 1:\n",
    "\n",
    "Input:\n",
    "N = 9\n",
    "\n",
    "Output:\n",
    "9 18 27 36 45 54 63 72 81 90\n",
    "\n",
    "Explanation:\n",
    "The table of 9 is the output whose 1st \n",
    "term is 9 and the 10th term is 90.\n",
    "\n",
    "Example 2:\n",
    "\n",
    "Input:\n",
    "N = 2\n",
    "\n",
    "Output:\n",
    "2 4 6 8 10 12 14 16 18 20\n",
    "\n",
    "\n",
    "Your Task:  \n",
    "You don't need to read input. Your task is to complete the function getTable() which takes an integer N as input parameter and returns a list of integers denoting the multiplication of table of N from 1 to 10. \n",
    "\n",
    "Expected Time Complexity: O(1)\n",
    "Expected Auxiliary Space: O(1)\n",
    "\n",
    "\n",
    "Constraints: \n",
    "1 <= N <= 106"
   ]
  },
  {
   "cell_type": "code",
   "execution_count": 73,
   "id": "15f3c978-b844-42b1-b660-e6cc7c5ec5ad",
   "metadata": {},
   "outputs": [
    {
     "data": {
      "text/plain": [
       "[2, 4, 6, 8, 10, 12, 14, 16, 18, 20]"
      ]
     },
     "execution_count": 73,
     "metadata": {},
     "output_type": "execute_result"
    }
   ],
   "source": [
    "class Solution:\n",
    "    def getTable(self,N):\n",
    "        \n",
    "        self.int = N\n",
    "        \n",
    "        multi = []\n",
    "        \n",
    "        for i in range(1,11):\n",
    "            multi.append(self.int*i)\n",
    "            \n",
    "        return multi\n",
    "        \n",
    "Solution().getTable(2)"
   ]
  },
  {
   "cell_type": "code",
   "execution_count": 9,
   "id": "4ed95236-6e3a-4845-93a1-5a4407046adc",
   "metadata": {},
   "outputs": [
    {
     "data": {
      "text/plain": [
       "20"
      ]
     },
     "execution_count": 9,
     "metadata": {},
     "output_type": "execute_result"
    }
   ],
   "source": [
    "class Solution:\n",
    "    def getTable(self,N):\n",
    "        \n",
    "        for i in range(N,11):\n",
    "            t = N*i\n",
    "        \n",
    "        return t\n",
    "    \n",
    "Solution().getTable(2)"
   ]
  },
  {
   "cell_type": "raw",
   "id": "269c5dc9-21a8-4254-ac26-fb6c3c338a0f",
   "metadata": {},
   "source": [
    "Given an unsorted array Arr[] of N integers and a Key which is present in this array. You need to write a program to find the start index( index where the element is first found from left in the array ) and end index( index where the element is first found from right in the array ).If the key does not exist in the array then return -1 for both start and end index in this case.\n",
    "\n",
    "Example 1:\n",
    "\n",
    "Input:\n",
    "N = 6\n",
    "arr[] = { 1, 2, 3, 4, 5, 5 }\n",
    "Key = 5\n",
    "Output:  4 5\n",
    "Explanation:\n",
    "5 appears first time at index 4 and\n",
    "appears last time at index 5.\n",
    "(0 based indexing)\n",
    " \n",
    "\n",
    "Example 2:\n",
    "\n",
    "Input:\n",
    "N=6\n",
    "arr[] = { 6, 5, 4, 3, 1, 2 }\n",
    "Key = 4\n",
    "Output:  2 2 \n",
    "\n",
    "Your Task:\n",
    "Since, this is a function problem. You don't need to take any input, as it is already accomplished by the driver code. You just need to complete the function findIndex() that takes array a, integer N and integer key as parameters and returns an array of length 2 in which at first index contains the value of start index and at the second index contains the value of end index. If the key does not exist in the array then return -1 for both start and end index in this case.\n",
    "\n",
    "\n",
    "Expected Time Complexity: O(N)\n",
    "Expected Auxiliary Space: O(1).\n",
    "\n",
    "Constraints:\n",
    "1 ≤ N ≤ 106"
   ]
  },
  {
   "cell_type": "code",
   "execution_count": 131,
   "id": "a08bffb9-90d6-4c28-978b-b020ea6be806",
   "metadata": {},
   "outputs": [
    {
     "name": "stdout",
     "output_type": "stream",
     "text": [
      "[-1, -1]\n"
     ]
    }
   ],
   "source": [
    "\n",
    "a = [1, 2, 5, 6, 7, 5]\n",
    "N = len(a)\n",
    "key = 3\n",
    "result = []\n",
    "\n",
    "for i in range(0,N):\n",
    "    if key == a[i]:\n",
    "        result.append(i)\n",
    "        break\n",
    "\n",
    "for j in range(N-1, -1, -1):\n",
    "    if key == a[j]:\n",
    "        result.append(j)\n",
    "        break\n",
    "\n",
    "if result == []:\n",
    "    result.append(-1)\n",
    "    result.append(-1)\n",
    "\n",
    "print(result)"
   ]
  },
  {
   "cell_type": "code",
   "execution_count": 12,
   "id": "c6593c80-c706-42d4-9191-2164b8ffab17",
   "metadata": {},
   "outputs": [
    {
     "data": {
      "text/plain": [
       "[2, 5]"
      ]
     },
     "execution_count": 12,
     "metadata": {},
     "output_type": "execute_result"
    }
   ],
   "source": [
    "class Solution:\n",
    "    def findIndex(self,a, N, key ):\n",
    "        \n",
    "        self.Arr = a\n",
    "        self.int = N\n",
    "        self.key = key\n",
    "        \n",
    "        result = []\n",
    "        \n",
    "        for i in range(0, self.int):\n",
    "            if self.key == self.Arr[i]:\n",
    "                result.append(i)\n",
    "                break\n",
    "        for j in range(N-1, -1, -1):\n",
    "            if self.key == self.Arr[j]:\n",
    "                result.append(j)\n",
    "                break\n",
    "                \n",
    "        if result == []:\n",
    "            result.append(-1)\n",
    "            result.append(-1)\n",
    "        \n",
    "        return result\n",
    "\n",
    "a = [1, 2, 5, 6, 7, 5]\n",
    "N = len(a)\n",
    "key = 5\n",
    "    \n",
    "sol = Solution()\n",
    "sol.findIndex(a, N, key)"
   ]
  },
  {
   "cell_type": "raw",
   "id": "3151a5df-9f09-4680-91ef-a6303a2ef164",
   "metadata": {},
   "source": [
    "In a party of N people, each person is denoted by an integer. Couples are represented by the same number. Find out the only single person in the party of couples.\n",
    "\n",
    "\n",
    "Example 1:\n",
    "\n",
    "Input: N = 5\n",
    "arr = {1, 2, 3, 2, 1}\n",
    "Output: 3\n",
    "Explaination: Only the number 3 is single.\n",
    "\n",
    "Example 2:\n",
    "\n",
    "Input: N = 11\n",
    "arr = {1, 2, 3, 5, 3, 2, 1, 4, 5, 6, 6}\n",
    "Output: 4\n",
    "Explaination: 4 is the only single.\n",
    "\n",
    "Your Task:\n",
    "You do not need to read input or print anything. Your task is to complete the function findSingle() which takes the size of the array N and the array arr[] as input parameters and returns the only single person.\n",
    "\n",
    "\n",
    "Expected Time Complexity: O(N)\n",
    "Expected Auxiliary Space: O(1)\n",
    "\n",
    "\n",
    "Constraints:\n",
    "1 ≤ N ≤ 104\n",
    "1 ≤ arr[i] ≤ 106"
   ]
  },
  {
   "cell_type": "code",
   "execution_count": 13,
   "id": "da8f0514-6a83-4144-ba33-d6747e5bfb2d",
   "metadata": {},
   "outputs": [
    {
     "data": {
      "text/plain": [
       "7"
      ]
     },
     "execution_count": 13,
     "metadata": {},
     "output_type": "execute_result"
    }
   ],
   "source": [
    "class Solution:\n",
    "    def findSingle(self, N, arr):\n",
    "        self.N = N\n",
    "        self.arr = arr\n",
    "\n",
    "        for x in arr:\n",
    "            s = self.arr.count(x)\n",
    "            if s == 1:\n",
    "                return x\n",
    "\n",
    "sol = Solution()\n",
    "sol.findSingle(11, [1, 2, 3, 5, 3, 2, 1, 4, 4, 5, 6, 6, 7])"
   ]
  },
  {
   "cell_type": "raw",
   "id": "48607a34-f583-46e7-91aa-ca744d53830a",
   "metadata": {},
   "source": [
    "Given an array of size N and you have to tell whether the array is perfect or not. An array is said to be perfect if it's reverse array matches the original array. If the array is perfect then print \"PERFECT\" else print \"NOT PERFECT\".\n",
    "\n",
    "Example 1:\n",
    "\n",
    "Input : Arr[] = {1, 2, 3, 2, 1}\n",
    "Output : PERFECT\n",
    "Explanation:\n",
    "Here we can see we have [1, 2, 3, 2, 1] \n",
    "if we reverse it we can find [1, 2, 3, 2, 1]\n",
    "which is the same as before.\n",
    "So, the answer is PERFECT.\n",
    "\n",
    "Example 2:\n",
    "\n",
    "Input : Arr[] = {1, 2, 3, 4, 5}\n",
    "Output : NOT PERFECT\n",
    "\n",
    "User Task:\n",
    "The task is to complete the function IsPerfect(), which takes an array (a), size of the array (n), and return the boolean value true if it Perfect else false. The drivercode automatically adds a new line.\n",
    "\n",
    "Expected Time Complexity: O(N).\n",
    "Expected Auxiliary Space: O(1).\n",
    "\n",
    "Constraints:\n",
    "1 ≤ N ≤ 105\n",
    "1 ≤ ai ≤ 103"
   ]
  },
  {
   "cell_type": "code",
   "execution_count": 8,
   "id": "03f6d187-4fe3-4744-b176-f0d3ab14f655",
   "metadata": {},
   "outputs": [
    {
     "data": {
      "text/plain": [
       "'NOT PERFECT'"
      ]
     },
     "execution_count": 8,
     "metadata": {},
     "output_type": "execute_result"
    }
   ],
   "source": [
    "class Solution:\n",
    "    def IsPerfect(self,arr,n):\n",
    "        \n",
    "        self.arr = arr\n",
    "        self.n = n\n",
    "        \n",
    "        reverse_arr = self.arr.reverse()\n",
    "\n",
    "        if self.arr == reverse_arr:\n",
    "            return \"PERFECT\"\n",
    "        \n",
    "        else:\n",
    "            return \"NOT PERFECT\"\n",
    "\n",
    "Sol = Solution()\n",
    "Sol.IsPerfect([20,4,15,10,14,19,11,8,5,19,13,8,18,13,3,12,8,16,19,11], 20)"
   ]
  },
  {
   "cell_type": "code",
   "execution_count": 9,
   "id": "ecd27e66-61e3-4691-8922-018411302cb1",
   "metadata": {},
   "outputs": [
    {
     "data": {
      "text/plain": [
       "'NOT PERFECT'"
      ]
     },
     "execution_count": 9,
     "metadata": {},
     "output_type": "execute_result"
    }
   ],
   "source": [
    "class Solution:\n",
    "    def IsPerfect(self,arr,n):\n",
    "        \n",
    "        self.arr = arr\n",
    "        self.n = n\n",
    "        \n",
    "        reverse_arr = self.arr[::-1]\n",
    "        \n",
    "        if self.arr == reverse_arr:\n",
    "            return \"PERFECT\"\n",
    "        \n",
    "        else:\n",
    "            return \"NOT PERFECT\"\n",
    "\n",
    "Sol = Solution()\n",
    "Sol.IsPerfect([20,4,15,10,14,19,11,8,5,19,13,8,18,13,3,12,8,16,19,11], 20)"
   ]
  },
  {
   "cell_type": "code",
   "execution_count": 11,
   "id": "f28890d7-fa81-4937-baa6-8b583bfa4b8c",
   "metadata": {},
   "outputs": [
    {
     "data": {
      "text/plain": [
       "'NOT PERFECT'"
      ]
     },
     "execution_count": 11,
     "metadata": {},
     "output_type": "execute_result"
    }
   ],
   "source": [
    "class Solution:\n",
    "    def IsPerfect(self,arr,n):\n",
    "        \n",
    "        if arr == arr[::-1]:\n",
    "            return \"PERFECT\"\n",
    "        else:\n",
    "            return \"NOT PERFECT\"\n",
    "\n",
    "Sol = Solution()\n",
    "Sol.IsPerfect([20,4,15,10,14,19,11,8,5,19,13,8,18,13,3,12,8,16,19,11], 20)"
   ]
  },
  {
   "cell_type": "raw",
   "id": "786c555b-5e78-404a-9d1b-f0f288f71606",
   "metadata": {},
   "source": [
    "Given a String S , print the reverse of the string as output.\n",
    "\n",
    "Example 1:\n",
    "\n",
    "Input: S = \"GeeksforGeeks\"\n",
    "Output: \"skeeGrofskeeG\" \n",
    "Explanation: Element at first is at last and\n",
    "last is at first, second is at second last and \n",
    "second last is at second position and so on .\n",
    "Example 2:\n",
    "\n",
    "Input: S = \"ReversE\"\n",
    "Output: \"EsreveR\"\n",
    "Explanation: \"E\" at first and \"R\" at last and\n",
    "\"e\" at second last and \"s\" at second and\n",
    "so on .\n",
    "\n",
    "Your Task:  \n",
    "You dont need to read input or print anything. Complete the function revStr() which takes S as input parameter and returns the reversed string .\n",
    "\n",
    "Expected Time Complexity: O(|S|)\n",
    "Expected Auxiliary Space: O(|S|)\n",
    "\n",
    "Constraints:\n",
    "1<= |S| <=1000"
   ]
  },
  {
   "cell_type": "code",
   "execution_count": 11,
   "id": "81acb941-56a2-4d2c-b858-f07220817daa",
   "metadata": {},
   "outputs": [
    {
     "data": {
      "text/plain": [
       "'a i s A   r i A'"
      ]
     },
     "execution_count": 11,
     "metadata": {},
     "output_type": "execute_result"
    }
   ],
   "source": [
    "class Solution:\n",
    "    def revStr (self, S, ob):\n",
    "        \n",
    "        self.ob = ob\n",
    "        self.S = S\n",
    "    \n",
    "        self.ob = len(self.S)\n",
    "    \n",
    "        rev = []\n",
    "    \n",
    "        i = 1\n",
    "        j = -1\n",
    "        while i <= self.ob:\n",
    "            rev.append(self.S[j])\n",
    "            j -= 1\n",
    "            i += 1\n",
    "    \n",
    "        return ' '.join(rev)\n",
    "\n",
    "S = \"Air Asia\"\n",
    "\n",
    "sol = Solution()\n",
    "sol.revStr(S,0)"
   ]
  },
  {
   "cell_type": "code",
   "execution_count": 9,
   "id": "552045fa-d019-4aa1-951c-3e01a0e0de1e",
   "metadata": {},
   "outputs": [
    {
     "data": {
      "text/plain": [
       "'aisA riA'"
      ]
     },
     "execution_count": 9,
     "metadata": {},
     "output_type": "execute_result"
    }
   ],
   "source": [
    "class Solution:\n",
    "    def revStr (self, ob, S):\n",
    "        \n",
    "        self.ob = ob\n",
    "        self.S = S\n",
    "    \n",
    "        self.S = len(self.ob)\n",
    "    \n",
    "        rev = []\n",
    "    \n",
    "        i = 1\n",
    "        j = -1\n",
    "        while i <= self.S:\n",
    "            rev.append(self.ob[j])\n",
    "            j -= 1\n",
    "            i += 1\n",
    "    \n",
    "       \n",
    "        string = ''\n",
    "        \n",
    "        for k in rev:\n",
    "            string += ''+ k\n",
    "        \n",
    "        return string\n",
    "            \n",
    "\n",
    "ob = \"Air Asia\"\n",
    "\n",
    "sol = Solution()\n",
    "sol.revStr(ob,0)"
   ]
  },
  {
   "cell_type": "raw",
   "id": "35aa6200-5942-498e-8ff0-169ee59fe47c",
   "metadata": {},
   "source": [
    "Given two positive integers A and B, find GCD of A and B.\n",
    "\n",
    "\n",
    "Example 1:\n",
    "\n",
    "Input: A = 3, B = 6\n",
    "Output: 3\n",
    "Explanation: GCD of 3 and 6 is 3\n",
    "\n",
    "Example 2:\n",
    "\n",
    "Input: A = 1, B = 1\n",
    "Output: 1\n",
    "Explanation: GCD of 1 and 1 is 1\n",
    "\n",
    "Your Task:  \n",
    "You don't need to read input or print anything. Complete the function gcd() which takes two positive integers as input parameters and returns an integer.\n",
    "\n",
    "\n",
    "Expected Time Complexity: O(log(min(A, B)))\n",
    "Expected Auxiliary Space: O(1)\n",
    "\n",
    "\n",
    "Constraints:\n",
    "1 ≤ A, B ≤ 109"
   ]
  },
  {
   "cell_type": "code",
   "execution_count": 9,
   "id": "c6ff14d0-7dfb-4095-bb10-0d92d4357fcc",
   "metadata": {},
   "outputs": [
    {
     "data": {
      "text/plain": [
       "12"
      ]
     },
     "execution_count": 9,
     "metadata": {},
     "output_type": "execute_result"
    }
   ],
   "source": [
    "# Euclidean algorithm\n",
    "\n",
    "class Solution:\n",
    "    def gcd(self, a,b):\n",
    "        while b:\n",
    "            a, b = b, a % b\n",
    "        return a\n",
    "\n",
    "Solution().gcd(60,48)"
   ]
  },
  {
   "cell_type": "code",
   "execution_count": 15,
   "id": "374a35a3-bcc5-4864-bc31-131c3512b495",
   "metadata": {},
   "outputs": [
    {
     "name": "stdout",
     "output_type": "stream",
     "text": [
      "12\n",
      "12\n"
     ]
    }
   ],
   "source": [
    "# While loops while the remainder is not zero\n",
    "\n",
    "class Test:\n",
    "    def acd(self,a,b):\n",
    "        while b != 0:\n",
    "            t = b\n",
    "            b = a%b\n",
    "            a = t\n",
    "        return a\n",
    "\n",
    "    def yearelse(self):\n",
    "        return a+b\n",
    "    \n",
    "test = Test()\n",
    "print(test.acd(60,48))\n",
    "print(test.acd(60,48))"
   ]
  },
  {
   "cell_type": "raw",
   "id": "e11d3617-86cf-4c5d-a5a1-f1c4229ab02f",
   "metadata": {},
   "source": [
    "Write a program to calculate nPr. nPr represents n permutation r and value of nPr is (n!) / (n-r)! or permuatations without repititions\n",
    "\n",
    "Example 1:\n",
    "\n",
    "Input: n = 2, r = 1\n",
    "Output: 2\n",
    "Explaination: 2!/(2-1)! = 2!/1! = (2*1)/1 = 2.\n",
    "Example 2:\n",
    "\n",
    "Input: n = 3, r = 3\n",
    "Output: 6\n",
    "Explaination: 3!/(3-3)! = 3!/0! = 6/1 = 6.\n",
    "Your Task:\n",
    "You do not need to read input or print anything. Your task is to complete the function nPr() which takes n and r as input parameters and returns nPr .\n",
    "\n",
    "Expected Time Complexity: O(n)\n",
    "Expected Auxiliary Space: O(1)\n",
    "\n",
    "Constraints:\n",
    "1 ≤ n, r ≤ 20"
   ]
  },
  {
   "cell_type": "code",
   "execution_count": 57,
   "id": "f97e83ec-5587-460d-9aec-31080d334c8b",
   "metadata": {},
   "outputs": [
    {
     "name": "stdout",
     "output_type": "stream",
     "text": [
      "1\n",
      "2\n",
      "3\n",
      "4\n",
      "5\n",
      "6\n",
      "7\n"
     ]
    },
    {
     "data": {
      "text/plain": [
       "5040"
      ]
     },
     "execution_count": 57,
     "metadata": {},
     "output_type": "execute_result"
    }
   ],
   "source": [
    "class Solution:\n",
    "    def nPr(self, n, r):\n",
    "        \n",
    "        num = 1\n",
    "        for i in range(1, n+1):\n",
    "            num *=i\n",
    "        \n",
    "        den = 1\n",
    "        for j in range(1, (n-r)+1):\n",
    "            print(j)\n",
    "            den *=j\n",
    "            \n",
    "        return int(num/den)\n",
    "\n",
    "Sol = Solution()\n",
    "Sol.nPr(11,4)"
   ]
  },
  {
   "cell_type": "code",
   "execution_count": 64,
   "id": "70803f47-894e-4004-958a-3449802ef5cc",
   "metadata": {},
   "outputs": [
    {
     "data": {
      "text/plain": [
       "30"
      ]
     },
     "execution_count": 64,
     "metadata": {},
     "output_type": "execute_result"
    }
   ],
   "source": [
    "class Solution:\n",
    "    def nPr(self, n, r):\n",
    "        \n",
    "        num = 1\n",
    "        for i in range(1, n+1):\n",
    "            num *=i\n",
    "        \n",
    "        den = 1\n",
    "        for j in range(1, (n-r)+1):\n",
    "            den *=j\n",
    "            \n",
    "        return int(num/den)\n",
    "\n",
    "Sol = Solution()\n",
    "Sol.nPr(11,4)\n",
    "Sol.nCr(5,20)"
   ]
  },
  {
   "cell_type": "raw",
   "id": "0077e183-1f45-4496-a1e0-a841eaa95eb6",
   "metadata": {},
   "source": [
    "Given a number N. The task is to complete the function convertFive() which replaces all zeros in the number with 5 and returns the number.\n",
    "\n",
    "Example:\n",
    "\n",
    "Input\n",
    "2\n",
    "1004\n",
    "121\n",
    "\n",
    "Output\n",
    "1554\n",
    "121\n",
    "\n",
    "Explanation:\n",
    "Testcase 1:  At index 1 and 2 there is 0 so we replace it with 5.\n",
    "Testcase 2: There is no,0 so output will remain the same.\n",
    "Input:\n",
    "The first line of input contains an integer T, denoting the number of test cases. Then T test cases follow.\n",
    "Each test case contains a single integer N denoting the number.\n",
    "\n",
    "Output:\n",
    "The function will return an integer where all zero's are converted to 5.\n",
    "\n",
    "Your Task:\n",
    "Since this is a functional problem you don't have to worry about input, you just have to complete the function convertFive().\n",
    "\n",
    "Constraints:\n",
    "1 <= T <= 103\n",
    "1 <= N <= 104"
   ]
  },
  {
   "cell_type": "code",
   "execution_count": 99,
   "id": "6b571130-69bf-4605-80a5-9c39f743cdb4",
   "metadata": {},
   "outputs": [
    {
     "data": {
      "text/plain": [
       "1552"
      ]
     },
     "execution_count": 99,
     "metadata": {},
     "output_type": "execute_result"
    }
   ],
   "source": [
    "class Solution:\n",
    "    def convertFive(self,n):\n",
    "        \n",
    "        B = \"\"\n",
    "        \n",
    "        for i in range(len(str(n))):\n",
    "            t = (str(n))[i].replace(\"0\", \"5\")\n",
    "            B = \"\".join([B, t])\n",
    "        \n",
    "        return int(B)\n",
    "\n",
    "Solution().convertFive(1002)"
   ]
  },
  {
   "cell_type": "raw",
   "id": "35b2fdce-a5c2-4ed6-ae86-06cb0e7a41e4",
   "metadata": {},
   "source": [
    "Given a sorted array Arr of size N and a value X, find the number of array elements less than or equal to X and elements more than or equal to X. \n",
    "\n",
    "Example 1:\n",
    "\n",
    "Input:\n",
    "N = 7, X = 0\n",
    "Arr[] = {1, 2, 8, 10, 11, 12, 19}\n",
    "Output: 0 7\n",
    "Explanation: There are no elements less or\n",
    "equal to 0 and 7 elements greater or equal\n",
    "to 0.\n",
    "Example 2:\n",
    "\n",
    "Input:\n",
    "N = 7, X = 5\n",
    "Arr[] = {1, 2, 8, 10, 11, 12, 19}\n",
    "Output: 2 5\n",
    "Explanation: There are 2 elements less or\n",
    "equal to 5 and 5 elements greater or equal\n",
    "to 5.\n",
    "Your Task:\n",
    "You don't need to read input or print anything. Your task is to complete the function getMoreAndLess() which takes the array of integers arr, n and x as parameters and returns an array of size 2. pair denoting the answer. The first value is number of elements less than or equal to x and the second value is number of elements more than or equal to x.\n",
    "\n",
    "Expected Time Complexity: O(logN)\n",
    "Expected Auxiliary Space: O(1)\n",
    "\n",
    "Constraints:\n",
    "1 ≤ N ≤ 105\n",
    "0 ≤ X ≤ 106\n",
    "1 ≤ Arr[i] ≤ 106"
   ]
  },
  {
   "cell_type": "code",
   "execution_count": 54,
   "id": "f4bde04a-904c-46c6-8d5a-6ba2840caaca",
   "metadata": {},
   "outputs": [
    {
     "data": {
      "text/plain": [
       "(3, 4)"
      ]
     },
     "execution_count": 54,
     "metadata": {},
     "output_type": "execute_result"
    }
   ],
   "source": [
    "class Solution:\n",
    "    def getMoreAndLess(self,arr, n, x):\n",
    "        \n",
    "        more, less = 0, 0\n",
    "        \n",
    "        for i in arr:\n",
    "            if i == x:\n",
    "                more , less = x, x\n",
    "            else:\n",
    "                if i >= x:\n",
    "                    more +=1\n",
    "                elif i <=x:\n",
    "                    less +=1\n",
    "        return (less, more)\n",
    "\n",
    "Solution().getMoreAndLess([3, 3 , 3, 4], 4, 3)\n",
    "                "
   ]
  },
  {
   "cell_type": "code",
   "execution_count": null,
   "id": "4de1d630-5a8d-40cf-ac5c-a7ee3bdba402",
   "metadata": {},
   "outputs": [
    {
     "data": {
      "text/plain": [
       "(3, 3)"
      ]
     },
     "execution_count": 4,
     "metadata": {},
     "output_type": "execute_result"
    }
   ],
   "source": [
    "class Solution:\n",
    "    def getMoreAndLess(self,arr, n, x):\n",
    "        \n",
    "        m, t = 0, 0\n",
    "        \n",
    "        for i in range(n):\n",
    "            if x >= arr[i]:\n",
    "                m +=1\n",
    "        \n",
    "        for i in range(n):\n",
    "            if x <= arr[i]:\n",
    "                t +=1\n",
    "                \n",
    "        return (m, t)\n",
    "    \n",
    "Solution().getMoreAndLess([3, 3 , 3], 3, 3)"
   ]
  },
  {
   "cell_type": "raw",
   "id": "2db5724f-84b6-420f-9a40-f830fb0ee582",
   "metadata": {},
   "source": [
    "You are given a cubic dice with 6 faces. All the individual faces have a number printed on them. The numbers are in the range of 1 to 6, like any ordinary dice. You will be provided with a face of this cube, your task is to guess the number on the opposite face of the cube.\n",
    "\n",
    "Example 1:\n",
    "\n",
    "Input:\n",
    "N = 6\n",
    "Output:\n",
    "1\n",
    "Explanation:\n",
    "For dice facing number 6 opposite face\n",
    "will have the number 1.\n",
    "\n",
    "Example 2\n",
    "\n",
    "Input:\n",
    "N = 2\n",
    "Output:\n",
    "5\n",
    "Explanation:\n",
    "For dice facing number 5 opposite face\n",
    "will have the number 2.\n",
    "\n",
    "Your Task:  \n",
    "You don't need to read input or print anything. Your task is to complete the function oppositeFaceOfDice() which takes an integer N as an input parameter and return the number on the opposite face of the dice.\n",
    "\n",
    "Expected Time Complexity: O(1)\n",
    "Expected Auxiliary Space: O(1)\n",
    "\n",
    "Constraint"
   ]
  },
  {
   "cell_type": "code",
   "execution_count": 5,
   "id": "170b6742-124d-4bc3-b362-4ededb36c3d5",
   "metadata": {},
   "outputs": [
    {
     "data": {
      "text/plain": [
       "2"
      ]
     },
     "execution_count": 5,
     "metadata": {},
     "output_type": "execute_result"
    }
   ],
   "source": [
    "class Solution:\n",
    "    def oppositeFaceOfDice(self, N):\n",
    "        \n",
    "        this_num = {1: 6, 2: 5, 3: 4, 6: 1, 5: 2, 4: 3}\n",
    "        \n",
    "        return this_num[N]\n",
    "\n",
    "Solution().oppositeFaceOfDice(5)"
   ]
  },
  {
   "cell_type": "raw",
   "id": "8d184318-5fb2-49d5-8e3c-b12fe16b851d",
   "metadata": {},
   "source": [
    "Given a positive integer N, determine whether it is odd or even.\n",
    "\n",
    " \n",
    "\n",
    "Example 1:\n",
    "\n",
    "Input:\n",
    "N = 1\n",
    "Output:\n",
    "odd\n",
    "Explanation:\n",
    "The output is self-\n",
    "explanatory.\n",
    " \n",
    "\n",
    "Example 2:\n",
    "\n",
    "Input:\n",
    "N = 2\n",
    "Output:\n",
    "even\n",
    "Explanation:\n",
    "The output is self-\n",
    "explanatory.\n",
    " \n",
    "\n",
    "Your Task:\n",
    "\n",
    "You don't need to read input or print anything. Your task is to complete the function oddEven() which takes the integer N and return \"even\" is number is even and \"odd\" if the number is odd.\n",
    "\n",
    " \n",
    "\n",
    "Expected Time Complexity: O(1)\n",
    "Expected Auxiliary Space: O(1)\n",
    "\n",
    " \n",
    "\n",
    "Constraints:\n",
    "0 <= N <= 10000"
   ]
  },
  {
   "cell_type": "code",
   "execution_count": 23,
   "id": "f525e1c1-698d-4d32-a839-d8754f5c9de6",
   "metadata": {},
   "outputs": [
    {
     "name": "stdout",
     "output_type": "stream",
     "text": [
      "odd\n"
     ]
    }
   ],
   "source": [
    "class Solution:\n",
    "    def oddEven (ob,N):\n",
    "        \n",
    "        if N%2 != 0:\n",
    "            return \"odd\"\n",
    "        else:\n",
    "            return \"even\"\n",
    "            \n",
    "print(Solution().oddEven(1))"
   ]
  },
  {
   "cell_type": "markdown",
   "id": "9c811e1a-a1dd-49c9-bf44-4053ac3086fe",
   "metadata": {},
   "source": [
    "Given a string consisting of lowercase english alphabets, reverse only the vowels present in it and print the resulting string.\n",
    "\n",
    "Example 1:\n",
    "\n",
    "Input:\n",
    "S = \"geeksforgeeks\"\n",
    "Output: geeksforgeeks\n",
    "Explanation: The vowels are: e, e, o, e, e\n",
    "Reverse of these is also e, e, o, e, e.\n",
    "\n",
    "Example 2:\n",
    "\n",
    "Input: \n",
    "S = \"practice\"\n",
    "Output: prectica\n",
    "Explanation: The vowels are a, i, e\n",
    "Reverse of these is e, i, a.\n",
    " \n",
    "\n",
    "Example 3:\n",
    "\n",
    "Input: \n",
    "S = \"bcdfg\"\n",
    "Output: bcdfg\n",
    "Explanation: There are no vowels in S.\n",
    "\n",
    "Your Task:\n",
    "You don't need to read input or print anything. Your task is to complete the function modify() which takes the string S as input and returns the resultant string by reversing only the vowels present in S.\n",
    "\n",
    "\n",
    "Expected Time Complexity: O(|S|).\n",
    "Expected Auxiliary Space: O(|S|).\n",
    "\n",
    "\n",
    "Constraints:\n",
    "1<=|S|<=105"
   ]
  },
  {
   "cell_type": "code",
   "execution_count": 15,
   "id": "f7ab7e47-cec3-47ca-ab15-7be192ed5e75",
   "metadata": {},
   "outputs": [
    {
     "data": {
      "text/plain": [
       "'gaeksfergoekse'"
      ]
     },
     "execution_count": 15,
     "metadata": {},
     "output_type": "execute_result"
    }
   ],
   "source": [
    "class Solution:\n",
    "    def modify(self, s):\n",
    "        \n",
    "        vowels = ['a', 'e', 'i', 'o', 'u']\n",
    "        \n",
    "        string = []\n",
    "        \n",
    "        for letter in s:\n",
    "            if letter in vowels:\n",
    "                string.append(letter)\n",
    "                \n",
    "        string.reverse()\n",
    "        \n",
    "        x = 0\n",
    "        result = \"\"\n",
    "        for letter_i in s:\n",
    "            if letter_i in vowels:\n",
    "                result += string[x]\n",
    "                x += 1\n",
    "            else:\n",
    "                result += letter_i\n",
    "                \n",
    "        return result\n",
    "                   \n",
    "Solution().modify(\"geeksforgeeksa\")"
   ]
  },
  {
   "cell_type": "raw",
   "id": "cdad78fb-d452-4e9f-9bd0-d500dbca223c",
   "metadata": {},
   "source": [
    "Given a sorted array of size N and an integer K, find the position at which K is present in the array using binary search.\n",
    "\n",
    "Example 1:\n",
    "\n",
    "Input:\n",
    "N = 5\n",
    "arr[] = {1 2 3 4 5} \n",
    "K = 4\n",
    "Output: 3\n",
    "Explanation: 4 appears at index 3.\n",
    "\n",
    "Example 2:\n",
    "\n",
    "Input:\n",
    "N = 5\n",
    "arr[] = {11 22 33 44 55} \n",
    "K = 445\n",
    "Output: -1\n",
    "Explanation: 445 is not present.\n",
    "\n",
    "Your Task:  \n",
    "You dont need to read input or print anything. Complete the function binarysearch() which takes arr[], N and K as input parameters and returns the index of K in the array. If K is not present in the array, return -1."
   ]
  },
  {
   "cell_type": "code",
   "execution_count": 69,
   "id": "8d93db00-e16d-4620-a6ea-0db69fc7adba",
   "metadata": {},
   "outputs": [
    {
     "data": {
      "text/plain": [
       "-1"
      ]
     },
     "execution_count": 69,
     "metadata": {},
     "output_type": "execute_result"
    }
   ],
   "source": [
    "class Solution:\n",
    "    def binarysearch(self, arr, n, k):\n",
    "        \n",
    "        self.arr = arr\n",
    "        self.n = n\n",
    "        self.k = k\n",
    "        \n",
    "        if self.k in arr:\n",
    "            for i in self.arr:\n",
    "                for j in range(len(arr)):\n",
    "                    if arr[j] == self.k:\n",
    "                        a = j\n",
    "        else:\n",
    "            a = -1\n",
    "        \n",
    "        return a\n",
    "    \n",
    "arr = [1, 2, 3, 4, 5]\n",
    "n = len(arr)\n",
    "    \n",
    "obj = Solution()\n",
    "obj.binarysearch(arr, n, 10)"
   ]
  },
  {
   "cell_type": "code",
   "execution_count": 84,
   "id": "0df2027d-5974-4d67-9efc-6f8a374bb3be",
   "metadata": {},
   "outputs": [
    {
     "data": {
      "text/plain": [
       "4"
      ]
     },
     "execution_count": 85,
     "metadata": {},
     "output_type": "execute_result"
    }
   ],
   "source": [
    "class Solution:\n",
    "    def binarysearch(self, arr, n, k):\n",
    "        \n",
    "        if k not in arr:\n",
    "            return -1\n",
    "        \n",
    "        for i in range(len(arr)):\n",
    "            if arr[i] == k:\n",
    "                return i\n",
    "        \n",
    "    \n",
    "arr = [1, 2, 3, 4, 5]\n",
    "n = len(arr)\n",
    "    \n",
    "obj = Solution()\n",
    "obj.binarysearch(arr, n, 6)"
   ]
  }
 ],
 "metadata": {
  "kernelspec": {
   "display_name": "Python 3 (ipykernel)",
   "language": "python",
   "name": "python3"
  },
  "language_info": {
   "codemirror_mode": {
    "name": "ipython",
    "version": 3
   },
   "file_extension": ".py",
   "mimetype": "text/x-python",
   "name": "python",
   "nbconvert_exporter": "python",
   "pygments_lexer": "ipython3",
   "version": "3.9.7"
  },
  "toc-autonumbering": false,
  "toc-showcode": false,
  "toc-showmarkdowntxt": false
 },
 "nbformat": 4,
 "nbformat_minor": 5
}
